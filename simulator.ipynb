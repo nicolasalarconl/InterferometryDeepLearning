{
  "nbformat": 4,
  "nbformat_minor": 0,
  "metadata": {
    "colab": {
      "name": "Untitled7.ipynb",
      "provenance": [],
      "collapsed_sections": [
        "gM72M5u1kGH1",
        "D1rGlhu6mrwR",
        "Fiui3c6ujXxA",
        "EMQvtJnEjezI",
        "uKW5tIafnchl"
      ],
      "toc_visible": true,
      "authorship_tag": "ABX9TyPHX0C92zTdC6pqsLp4xJSP",
      "include_colab_link": true
    },
    "kernelspec": {
      "name": "python3",
      "display_name": "Python 3"
    },
    "language_info": {
      "name": "python"
    },
    "accelerator": "GPU"
  },
  "cells": [
    {
      "cell_type": "markdown",
      "metadata": {
        "id": "view-in-github",
        "colab_type": "text"
      },
      "source": [
        "<a href=\"https://colab.research.google.com/github/nicolasalarconl/InterferometryDeepLearning/blob/main/simulator.ipynb\" target=\"_parent\"><img src=\"https://colab.research.google.com/assets/colab-badge.svg\" alt=\"Open In Colab\"/></a>"
      ]
    },
    {
      "cell_type": "markdown",
      "metadata": {
        "id": "gM72M5u1kGH1"
      },
      "source": [
        "# Params"
      ]
    },
    {
      "cell_type": "markdown",
      "metadata": {
        "id": "8BldXZO7RJmC"
      },
      "source": [
        "**Imports**"
      ]
    },
    {
      "cell_type": "code",
      "metadata": {
        "id": "7Dckd-USkKpu"
      },
      "source": [
        "# Simulated Images\n",
        "from matplotlib import pyplot as plt\n",
        "import numpy as np\n",
        "import random\n",
        "from astropy.io import fits\n",
        "from astropy.utils.data import download_file\n",
        "#Convolution \n",
        "from scipy import ndimage\n",
        "# pytorch dataset \n",
        "from tqdm import tqdm\n",
        "from torchvision import transforms\n",
        "from torch.utils.data import Dataset,DataLoader\n",
        "#Deep Learning\n",
        "import os\n",
        "import torch \n",
        "import torch.nn as nn\n",
        "import torch.optim as optim\n",
        "import torch.nn.functional as F\n",
        "from torchvision.utils import save_image\n",
        "import cv2"
      ],
      "execution_count": 196,
      "outputs": []
    },
    {
      "cell_type": "markdown",
      "metadata": {
        "id": "t7SuKmCyIEhU"
      },
      "source": [
        "**Params Images**"
      ]
    },
    {
      "cell_type": "code",
      "metadata": {
        "id": "y7HQbet1IEHr"
      },
      "source": [
        "N = 28 # image size\n",
        "N_PSF = 28 # psf size"
      ],
      "execution_count": 197,
      "outputs": []
    },
    {
      "cell_type": "markdown",
      "metadata": {
        "id": "DIxZU7c7kRHY"
      },
      "source": [
        "**Params Elipses**"
      ]
    },
    {
      "cell_type": "code",
      "metadata": {
        "id": "T6-lFCnmkROX"
      },
      "source": [
        "\n",
        "MIN_VALUE_INTENSITY = 0.6 #TODO: comentar\n",
        "MAX_VALUE_INTENSITY = 0.99  #TODO: comentar\n",
        "\n",
        "MIN_A = N*0.05  #5% of image width     #minimum value of the semi-minor axis (a)\n",
        "MAX_A = N*0.15  #15%  of image width   #maximum value of the semi-minor axis (a)\n",
        "STEP_A =  0.01  #step between the maximum and minimum value range of (a)\n",
        "\n",
        "\n",
        "MIN_B = N*0.05  #5% of image length    #minimum value of the semi-major axis (b)\n",
        "MAX_B = N*0.15  #15% of image length   #maximum value of the semi-major axis (b)\n",
        "STEP_B = 0.01   #step between the maximum and minimum value range of (b)\n",
        "\n",
        "MOV_X = N*0.1 #(+/-10%)   #maximum movement in the x-axis (positive and negative) with respect to the center of the image\n",
        "STEP_X = 1 #step between the maximum and minimum value range of the movement in the x-axis\n",
        "\n",
        "\n",
        "MOV_Y = N*0.1 #(+/-10%)   #maximum movement in the y-axis (positive and negative) with respect to the center of the image\n",
        "STEP_Y = 1 #step between the maximum and minimum value range of the movement in the y-axis\n",
        "\n",
        "ANGLE_MIN = -np.pi #TODO:comentar\n",
        "ANGLE_MAX=   np.pi #TODO:comentar\n",
        "STEP_ANGLE = 0.1 #TODO:comentar\n",
        "\n",
        "SIGMA_MIN = 0  #TODO:comentar\n",
        "SIGMA_MAX = 1#TODO:comentar\n",
        "STEP_SIGMA  = 0.1 #TODO:comentar\n",
        "\n"
      ],
      "execution_count": 198,
      "outputs": []
    },
    {
      "cell_type": "markdown",
      "metadata": {
        "id": "HjqRmPedkqI-"
      },
      "source": [
        "**Params Simulated Image**"
      ]
    },
    {
      "cell_type": "code",
      "metadata": {
        "id": "tqn1EnWbtSz7"
      },
      "source": [
        "N_ELLIPSES_RANDOM = 100 #Number of ellipses created randomly\n",
        "N_ELLIPSES_OPERATION = round(N_ELLIPSES_RANDOM*0.1) #10% of the list  of ellipses #Number of ellipses to operate to create a simulated image\n",
        "PERC_INFO = 0.04  # 4% #percentage of information in an image, so that it is considered valid"
      ],
      "execution_count": 199,
      "outputs": []
    },
    {
      "cell_type": "markdown",
      "metadata": {
        "id": "XvaBsR-yk4tM"
      },
      "source": [
        "**Params Dataset Save**"
      ]
    },
    {
      "cell_type": "code",
      "metadata": {
        "id": "BiPK2FXKk4zP"
      },
      "source": [
        "PATH_SAVE = 'images_simulated' #path where the dataset is saved\n",
        "INITIAL_SAVE = 0 #initial index for the names of the generated images \n",
        "FINAL_SAVE = 5000 #final index for the names of the generated images "
      ],
      "execution_count": 200,
      "outputs": []
    },
    {
      "cell_type": "markdown",
      "metadata": {
        "id": "yXnk62PjvKTi"
      },
      "source": [
        "**Params Dataset Read**"
      ]
    },
    {
      "cell_type": "code",
      "metadata": {
        "id": "t5R-yzzdJ1x7"
      },
      "source": [
        "PATH_READ = 'images_simulated' #path where the dataset is saved \n",
        "INITIAL_READ = 0   #initial index for the names of the saved images \n",
        "FINAL_READ = 5000  #final index for the names of the saved images "
      ],
      "execution_count": 201,
      "outputs": []
    },
    {
      "cell_type": "markdown",
      "metadata": {
        "id": "KNi3A5dx2EqF"
      },
      "source": [
        "**Params Dataset Python**\n"
      ]
    },
    {
      "cell_type": "code",
      "metadata": {
        "id": "uw9wPtk_2EEJ"
      },
      "source": [
        "PATH = 'images_simulated' #path where the dataset is saved \n",
        "INITIAL_DATASET = 0  #initial index for the names of the saved images \n",
        "FINAL_DATASET = 5000  #final index for the names of the saved images \n",
        "PERC_TRAIN = 0.7 # (70%) #training percentage \n",
        "PERC_TEST =  0.3 # (30%) #testing percentag\n",
        "BATCH = 8 #batch size"
      ],
      "execution_count": 202,
      "outputs": []
    },
    {
      "cell_type": "markdown",
      "metadata": {
        "id": "U10144puk80I"
      },
      "source": [
        "**Params Deep Learning**"
      ]
    },
    {
      "cell_type": "code",
      "metadata": {
        "id": "Pv3MF5Tz6x4t"
      },
      "source": [
        "# constants\n",
        "NUM_EPOCHS = 40\n",
        "LEARNING_RATE = 1e-3\n",
        "PATH_TRAIN = 'train'\n",
        "PATH_TEST = 'test'\n",
        "SIZE_IMAGES = 28"
      ],
      "execution_count": 203,
      "outputs": []
    },
    {
      "cell_type": "markdown",
      "metadata": {
        "id": "AOEPN0e96MUP"
      },
      "source": [
        "**Auxiliary functions**"
      ]
    },
    {
      "cell_type": "markdown",
      "metadata": {
        "id": "P-4xPk636Gtu"
      },
      "source": [
        "Function which makes a directory `path`."
      ]
    },
    {
      "cell_type": "code",
      "metadata": {
        "id": "WfjWLfJa6GBL"
      },
      "source": [
        "def make_dir(path):\n",
        "    if not os.path.exists(path):\n",
        "        os.makedirs(path)"
      ],
      "execution_count": 204,
      "outputs": []
    },
    {
      "cell_type": "markdown",
      "metadata": {
        "id": "D1rGlhu6mrwR"
      },
      "source": [
        "# Simuted Images\n",
        "\n"
      ]
    },
    {
      "cell_type": "markdown",
      "metadata": {
        "id": "uaPMVJucrH_7"
      },
      "source": [
        "**Create Ellipse**"
      ]
    },
    {
      "cell_type": "markdown",
      "metadata": {
        "id": "RYuSAJLmr5PA"
      },
      "source": [
        "\n",
        "* `n`: image size\n",
        "* `a`: exe semi-minor axis\n",
        "* `b`: semi-major axis\n",
        "* `min`: TODO: Comentar\n",
        "* `max`: TODO: Comentar\n",
        "* `mov_x`: movement in the x-axis with respect to the center of the image\n",
        "* `mov_y`: movement in the y-axis with respect to the center of the image\n",
        "* `angle`: angle around\n",
        "* `sigma`: TODO: Comentar\n",
        "\n",
        "\n",
        "\n",
        " \n",
        "\n",
        "\n",
        "\n",
        "\n"
      ]
    },
    {
      "cell_type": "code",
      "metadata": {
        "id": "tZTrHe1ERgkZ"
      },
      "source": [
        "def create_elipse(n,a,b,min,max,mov_x,mov_y,angle,sigma):\n",
        "  X=np.reshape(np.arange(0,n),(1,n))\n",
        "  Y=np.reshape(np.arange(0,n), (n,1)) \n",
        "  X=X-n/2 + mov_x\n",
        "  Y=Y-n/2 + mov_y\n",
        "  c=np.cos(angle)\n",
        "  s=np.sin(angle)\n",
        "  XX=X*c + Y*s # para no sobre-escribir X\n",
        "  YY=X*s - Y*c\n",
        "  X=XX\n",
        "  Y=YY\n",
        "  Z=np.sqrt(((X/a)**2+((Y/b)**2)))\n",
        "  Z= np.exp(-Z**2/2/sigma**2)\n",
        "  ZZ =np.copy(Z)\n",
        "  Z[ZZ<min]=0\n",
        "  Z[ZZ>max]=0\n",
        "  return Z"
      ],
      "execution_count": 205,
      "outputs": []
    },
    {
      "cell_type": "markdown",
      "metadata": {
        "id": "CjkvE9JlrORF"
      },
      "source": [
        "Example"
      ]
    },
    {
      "cell_type": "code",
      "metadata": {
        "colab": {
          "base_uri": "https://localhost:8080/",
          "height": 0
        },
        "id": "1M74pRxVqjwJ",
        "outputId": "56734c5e-a6d6-4f94-9171-23a518b64e50"
      },
      "source": [
        "n = 256 # image 256x256\n",
        "a = 20 # eje semi-minor\n",
        "b = 40 # eje semi-major\n",
        "min= 0.1  # TODO: comentar\n",
        "max = 0.9 # TODO: comentar\n",
        "mov_x = n*0.05 #5% to the right of the center of the image\n",
        "mov_y = n*0.05 #5% up from the center of the image \n",
        "angle = 2*np.pi*(1/16.0) # (45º angle around)\n",
        "sigma = 0.5 # TODO: comentar\n",
        "\n",
        "elipse = create_elipse(n,a,b,min,max,mov_x,mov_y,angle,sigma)\n",
        "plt.imshow(elipse)"
      ],
      "execution_count": 206,
      "outputs": [
        {
          "output_type": "execute_result",
          "data": {
            "text/plain": [
              "<matplotlib.image.AxesImage at 0x7f278c2153d0>"
            ]
          },
          "metadata": {
            "tags": []
          },
          "execution_count": 206
        },
        {
          "output_type": "display_data",
          "data": {
            "image/png": "[encoded data removed]",
            "text/plain": [
              "<Figure size 432x288 with 1 Axes>"
            ]
          },
          "metadata": {
            "tags": [],
            "needs_background": "light"
          }
        }
      ]
    },
    {
      "cell_type": "markdown",
      "metadata": {
        "id": "82WHJ1T6moG1"
      },
      "source": [
        "**Random Ellipses**"
      ]
    },
    {
      "cell_type": "markdown",
      "metadata": {
        "id": "PrU56V8VlO52"
      },
      "source": [
        "For each of the ellipse parameters we generate a list of all the values ​​that they can take.\n",
        "\n",
        "*   `a_list`: list of all possible values ​​that of semi-minor axis `a`\n",
        "*   `b_list`: list of all possible values of semi-major axis  `b` \n",
        "*   `mov_x_list`: TODO: Esto no es asi lista de desplazamientos con respecto al centro de la elipse en el plano x \n",
        "*   `mov_y_list`:   TODO: Esto no es asi  lista de desplazamientos con respecto al centro de la elipse en el plano y \n",
        "*   `angle_list`:   TODO: comentar\n",
        "*   `sigma_list`:  TODO: comentar\n",
        "\n",
        "\n",
        "\n",
        "\n"
      ]
    },
    {
      "cell_type": "code",
      "metadata": {
        "id": "Kci6VrrrRrIA"
      },
      "source": [
        "a_list = np.arange(MIN_A,MAX_A,STEP_A)\n",
        "b_list = np.arange(MIN_B,MAX_B,STEP_B)\n",
        "mov_x_list = np.arange(-MOV_X,MOV_X,STEP_X)\n",
        "mov_y_list = np.arange(-MOV_Y,MOV_Y,STEP_Y)\n",
        "angle_list=  np.arange(ANGLE_MIN,ANGLE_MAX,STEP_ANGLE)\n",
        "sigma_list = np.arange(SIGMA_MIN,SIGMA_MAX,STEP_ANGLE)\n"
      ],
      "execution_count": 207,
      "outputs": []
    },
    {
      "cell_type": "markdown",
      "metadata": {
        "id": "VI0lUQbxEeMe"
      },
      "source": [
        "now, we generate a random value of each parameter of an ellipse\n",
        "\n"
      ]
    },
    {
      "cell_type": "code",
      "metadata": {
        "id": "IXpDJIDxR0AA"
      },
      "source": [
        "def random_params(a_list,b_list,mov_x_list,mav_y_list,angle_list,sigma_list):\n",
        "  a  = random.choice(a_list)\n",
        "  b  = random.choice(b_list)\n",
        "  x = random.choice(mov_y_list)\n",
        "  y = random.choice(mov_y_list)\n",
        "  an = random.choice(angle_list) \n",
        "  sig = random.choice(sigma_list)\n",
        "  return [a,b,x,y,an,sig]"
      ],
      "execution_count": 208,
      "outputs": []
    },
    {
      "cell_type": "markdown",
      "metadata": {
        "id": "OCxf9sFMEdkU"
      },
      "source": [
        "Example"
      ]
    },
    {
      "cell_type": "code",
      "metadata": {
        "colab": {
          "base_uri": "https://localhost:8080/",
          "height": 0
        },
        "id": "NjIw_ABWmnUG",
        "outputId": "31e6bcad-303f-40a0-caf3-bd6d3106dafd"
      },
      "source": [
        "params_1 = random_params(a_list,b_list,mov_x_list,mov_y_list,angle_list,sigma_list)\n",
        "params_2 = random_params(a_list,b_list,mov_x_list,mov_y_list,angle_list,sigma_list)\n",
        "params_3 = random_params(a_list,b_list,mov_x_list,mov_y_list,angle_list,sigma_list)\n",
        "params_4 = random_params(a_list,b_list,mov_x_list,mov_y_list,angle_list,sigma_list)\n",
        "\n",
        "ellipse_1 = create_elipse(N,params_1[0],params_1[1],MIN_VALUE_INTENSITY,MAX_VALUE_INTENSITY,params_1[2],params_1[3],params_1[4],params_1[5])\n",
        "ellipse_2 = create_elipse(N,params_2[0],params_2[1],MIN_VALUE_INTENSITY,MAX_VALUE_INTENSITY,params_2[2],params_2[3],params_2[4],params_2[5])\n",
        "ellipse_3 = create_elipse(N,params_3[0],params_3[1],MIN_VALUE_INTENSITY,MAX_VALUE_INTENSITY,params_3[2],params_3[3],params_3[4],params_3[5])\n",
        "ellipse_4 = create_elipse(N,params_4[0],params_4[1],MIN_VALUE_INTENSITY,MAX_VALUE_INTENSITY,params_4[2],params_4[3],params_4[4],params_4[5])\n",
        "\n",
        "plt.figure()\n",
        "f, axarr=plt.subplots(2,2)\n",
        "axarr[0,0].imshow(ellipse_1)\n",
        "axarr[0,1].imshow(ellipse_2)\n",
        "axarr[1,0].imshow(ellipse_3)\n",
        "axarr[1,1].imshow(ellipse_4)\n"
      ],
      "execution_count": 209,
      "outputs": [
        {
          "output_type": "execute_result",
          "data": {
            "text/plain": [
              "<matplotlib.image.AxesImage at 0x7f278c06d410>"
            ]
          },
          "metadata": {
            "tags": []
          },
          "execution_count": 209
        },
        {
          "output_type": "display_data",
          "data": {
            "text/plain": [
              "<Figure size 432x288 with 0 Axes>"
            ]
          },
          "metadata": {
            "tags": []
          }
        },
        {
          "output_type": "display_data",
          "data": {
            "image/png": "[encoded data removed]",
            "text/plain": [
              "<Figure size 432x288 with 4 Axes>"
            ]
          },
          "metadata": {
            "tags": [],
            "needs_background": "light"
          }
        }
      ]
    },
    {
      "cell_type": "markdown",
      "metadata": {
        "id": "LwLQ0Dkwv8Qj"
      },
      "source": [
        "**List of random Ellipses**\n",
        "\n"
      ]
    },
    {
      "cell_type": "markdown",
      "metadata": {
        "id": "SzMX_omIKOBq"
      },
      "source": [
        "We generate a list of random ellipses, of size `N_RANDOM_ELIPSES`\n",
        "\n",
        "\n"
      ]
    },
    {
      "cell_type": "code",
      "metadata": {
        "colab": {
          "base_uri": "https://localhost:8080/"
        },
        "id": "7x4RhSaGwarR",
        "outputId": "8b658825-6a6f-4568-98e7-926f90adccea"
      },
      "source": [
        "def create_ellipses(n_ellipses,a_list,b_list,mov_x_list,mov_y_list,angle_list,sigma_list):\n",
        "  elipses = []\n",
        "  for i in range(0,n_ellipses):\n",
        "    params = random_params(a_list,b_list,mov_x_list,mov_y_list,angle_list,sigma_list)\n",
        "    elipse= create_elipse(N,params[0],params[1],MIN_VALUE_INTENSITY,MAX_VALUE_INTENSITY,params[2],params[3],params[4],params[5])\n",
        "    elipses.append(elipse)\n",
        "  return elipses\n",
        "  \n",
        "list_elipses = create_ellipses(N_ELLIPSES_RANDOM,a_list,b_list,mov_x_list,mov_y_list,angle_list,sigma_list)"
      ],
      "execution_count": 210,
      "outputs": [
        {
          "output_type": "stream",
          "text": [
            "/usr/local/lib/python3.7/dist-packages/ipykernel_launcher.py:13: RuntimeWarning: divide by zero encountered in true_divide\n",
            "  del sys.path[0]\n"
          ],
          "name": "stderr"
        }
      ]
    },
    {
      "cell_type": "markdown",
      "metadata": {
        "id": "Exd76x5P23SQ"
      },
      "source": [
        "now we visualize 4 images of the generated ellipse list"
      ]
    },
    {
      "cell_type": "code",
      "metadata": {
        "colab": {
          "base_uri": "https://localhost:8080/",
          "height": 0
        },
        "id": "lCB2QqZzyN3v",
        "outputId": "bdb0a4e1-afb9-4d79-fad7-ce7950b08743"
      },
      "source": [
        "list_random_elipses = random.sample(list_elipses, 4)\n",
        "plt.figure()\n",
        "f, axarr=plt.subplots(2,2)\n",
        "axarr[0,0].imshow(list_random_elipses[0])\n",
        "axarr[0,1].imshow(list_random_elipses[1])\n",
        "axarr[1,0].imshow(list_random_elipses[2])\n",
        "axarr[1,1].imshow(list_random_elipses[3])\n"
      ],
      "execution_count": 211,
      "outputs": [
        {
          "output_type": "execute_result",
          "data": {
            "text/plain": [
              "<matplotlib.image.AxesImage at 0x7f2781f27610>"
            ]
          },
          "metadata": {
            "tags": []
          },
          "execution_count": 211
        },
        {
          "output_type": "display_data",
          "data": {
            "text/plain": [
              "<Figure size 432x288 with 0 Axes>"
            ]
          },
          "metadata": {
            "tags": []
          }
        },
        {
          "output_type": "display_data",
          "data": {
            "image/png": "[encoded data removed]",
            "text/plain": [
              "<Figure size 432x288 with 4 Axes>"
            ]
          },
          "metadata": {
            "tags": [],
            "needs_background": "light"
          }
        }
      ]
    },
    {
      "cell_type": "markdown",
      "metadata": {
        "id": "kTRxQmxLusXu"
      },
      "source": [
        "**Image information percentage**"
      ]
    },
    {
      "cell_type": "markdown",
      "metadata": {
        "id": "6tiPhMTl6Uqc"
      },
      "source": [
        "Finally, to simulate the interferometric image, we will make a combination of ellipses through mathematical operations."
      ]
    },
    {
      "cell_type": "markdown",
      "metadata": {
        "id": "3JfFg80L6X7d"
      },
      "source": [
        "To avoid that the generated image is empty or contains very little information, we created a function that allows us to calculate the percentage of information"
      ]
    },
    {
      "cell_type": "code",
      "metadata": {
        "id": "jQeA5Y1drapq"
      },
      "source": [
        "def get_perc_info(image):\n",
        "   n = len(image)\n",
        "   c = np.sum(image>0)  \n",
        "   perc=(c)/(n*n)\n",
        "   return perc"
      ],
      "execution_count": 212,
      "outputs": []
    },
    {
      "cell_type": "markdown",
      "metadata": {
        "id": "-MwGtwJv6txD"
      },
      "source": [
        "we also create a function to normalize the created image"
      ]
    },
    {
      "cell_type": "code",
      "metadata": {
        "id": "gByMpS3d6urL"
      },
      "source": [
        "def normalize(image):\n",
        "  image = image - np.min(image)\n",
        "  image = image/np.max(image)\n",
        "  return image"
      ],
      "execution_count": 213,
      "outputs": []
    },
    {
      "cell_type": "markdown",
      "metadata": {
        "id": "zbzC_Au87XHe"
      },
      "source": [
        "\n",
        "\n",
        "*   `list_elipses`: list containing all possible ellipses to combine\n",
        "*   `size_subsets`: number of ellipses to combine\n",
        "\n",
        "Using these parameters we generate a random subset of `list_elipses` called` list_random_elipses`. We obtain the first element of this subset and perform a mathematical operation (obtained randomly from the list of `operators`) with the next ellipse in the list, then the generated figure is operated with the next element in the list of subsets.\n"
      ]
    },
    {
      "cell_type": "code",
      "metadata": {
        "id": "BnbAF9J8tFL8"
      },
      "source": [
        "def random_figure(list_elipses,size_subset):\n",
        "  size = len(list_elipses)\n",
        "  if (size_subset > size):\n",
        "    size_subset = size\n",
        "  operators = ['*','+','-']\n",
        "  list_random_elipses = random.sample(list_elipses, size_subset)\n",
        "  final_figure = list_random_elipses[random.randrange(0,size_subset-1,1)]\n",
        "  for elipse in list_random_elipses:\n",
        "    operator =random.choice(operators)\n",
        "    if (operator == '+'):\n",
        "      final_figure = elipse + final_figure\n",
        "    elif (operator == '*'):\n",
        "      final_figure = elipse * final_figure\n",
        "    elif (operator == '-'):\n",
        "      final_figure = elipse - final_figure\n",
        "  final_figure_copy  = np.copy(final_figure)\n",
        "  final_figure = normalize(final_figure)\n",
        "  final_figure[final_figure_copy ==0]=0\n",
        "  if (get_perc_info(final_figure) > PERC_INFO):\n",
        "    #ZZ =np.copy(final_figure)\n",
        "    #final_figure[ZZ<MIN_VALUE_INTENSITY]=0\n",
        "    #final_figure[ZZ>MAX_VALUE_INTENSITY]=0\n",
        "    return final_figure\n",
        "  else:\n",
        "    return random_figure(list_elipses,size)"
      ],
      "execution_count": 214,
      "outputs": []
    },
    {
      "cell_type": "markdown",
      "metadata": {
        "id": "BXyKP21GAtuF"
      },
      "source": [
        "Example"
      ]
    },
    {
      "cell_type": "code",
      "metadata": {
        "colab": {
          "base_uri": "https://localhost:8080/",
          "height": 0
        },
        "id": "HskUzvEcApw0",
        "outputId": "e614a3a4-eba9-4507-ec42-10d90041e4ce"
      },
      "source": [
        "figure = random_figure(list_elipses,N_ELLIPSES_OPERATION)\n",
        "plt.imshow(figure)"
      ],
      "execution_count": 215,
      "outputs": [
        {
          "output_type": "execute_result",
          "data": {
            "text/plain": [
              "<matplotlib.image.AxesImage at 0x7f2781e44610>"
            ]
          },
          "metadata": {
            "tags": []
          },
          "execution_count": 215
        },
        {
          "output_type": "display_data",
          "data": {
            "image/png": "[encoded data removed]",
            "text/plain": [
              "<Figure size 432x288 with 1 Axes>"
            ]
          },
          "metadata": {
            "tags": [],
            "needs_background": "light"
          }
        }
      ]
    },
    {
      "cell_type": "markdown",
      "metadata": {
        "id": "ibpDBo1j8rx_"
      },
      "source": [
        "**CREATE AND SAVE DATASET SIMULATED IMAGES IN FITS FORMAT**"
      ]
    },
    {
      "cell_type": "markdown",
      "metadata": {
        "id": "h1vuHv86Elbd"
      },
      "source": [
        "*   `initial`: initial index for the names of the generated images\n",
        "*   `final`: final index for the names of the generated images\n",
        "*   `list_elipses`: list of ellipses\n",
        "*   `path`: path where the images are saved\n",
        "\n"
      ]
    },
    {
      "cell_type": "code",
      "metadata": {
        "id": "dDYZNwQjeL49"
      },
      "source": [
        "def dataset_figures(initial,final,list_elipses,path):\n",
        "  dataset = []\n",
        "  size_ellipse = len(list_elipses[0])\n",
        "  for index in range(initial,final):\n",
        "    if (index%100 ==0):\n",
        "      print(index)\n",
        "    figure = random_figure(list_elipses,N_ELLIPSES_OPERATION)\n",
        "    hdu_image =fits.PrimaryHDU(figure)\n",
        "    hdu_image.writeto(path+'/image_'+str(size_ellipse)+'x'+str(size_ellipse)+'_'+str(index)+'.fits',clobber=True)\n",
        "    dataset.append(figure)\n",
        "  return dataset"
      ],
      "execution_count": 216,
      "outputs": []
    },
    {
      "cell_type": "markdown",
      "metadata": {
        "id": "5A4w6M_PHgkt"
      },
      "source": [
        "Example"
      ]
    },
    {
      "cell_type": "code",
      "metadata": {
        "colab": {
          "base_uri": "https://localhost:8080/",
          "height": 0
        },
        "id": "VhNH4ReEaXqt",
        "outputId": "bc0544b7-feda-4ebd-b391-08a1b67e25cf"
      },
      "source": [
        "make_dir(PATH_SAVE)\n",
        "simulted_images = dataset_figures(INITIAL_SAVE,FINAL_SAVE,list_elipses,PATH_SAVE)\n",
        "list_random_dataset = random.sample(simulted_images, 4)\n",
        "plt.figure()\n",
        "f, axarr=plt.subplots(2,2) \n",
        "axarr[0,0].imshow(list_random_dataset[0])\n",
        "axarr[0,1].imshow(list_random_dataset[1])\n",
        "axarr[1,0].imshow(list_random_dataset[2])\n",
        "axarr[1,1].imshow(list_random_dataset[3])\n"
      ],
      "execution_count": 217,
      "outputs": [
        {
          "output_type": "stream",
          "text": [
            "0\n"
          ],
          "name": "stdout"
        },
        {
          "output_type": "stream",
          "text": [
            "WARNING: AstropyDeprecationWarning: \"clobber\" was deprecated in version 2.0 and will be removed in a future version. Use argument \"overwrite\" instead. [warnings]\n",
            "/usr/local/lib/python3.7/dist-packages/ipykernel_launcher.py:3: RuntimeWarning: invalid value encountered in true_divide\n",
            "  This is separate from the ipykernel package so we can avoid doing imports until\n"
          ],
          "name": "stderr"
        },
        {
          "output_type": "stream",
          "text": [
            "100\n",
            "200\n",
            "300\n",
            "400\n",
            "500\n",
            "600\n",
            "700\n",
            "800\n",
            "900\n",
            "1000\n",
            "1100\n",
            "1200\n",
            "1300\n",
            "1400\n",
            "1500\n",
            "1600\n",
            "1700\n",
            "1800\n",
            "1900\n",
            "2000\n",
            "2100\n",
            "2200\n",
            "2300\n",
            "2400\n",
            "2500\n",
            "2600\n",
            "2700\n",
            "2800\n",
            "2900\n",
            "3000\n",
            "3100\n",
            "3200\n",
            "3300\n",
            "3400\n",
            "3500\n",
            "3600\n",
            "3700\n",
            "3800\n",
            "3900\n",
            "4000\n",
            "4100\n",
            "4200\n",
            "4300\n",
            "4400\n",
            "4500\n",
            "4600\n",
            "4700\n",
            "4800\n",
            "4900\n"
          ],
          "name": "stdout"
        },
        {
          "output_type": "execute_result",
          "data": {
            "text/plain": [
              "<matplotlib.image.AxesImage at 0x7f278c1db2d0>"
            ]
          },
          "metadata": {
            "tags": []
          },
          "execution_count": 217
        },
        {
          "output_type": "display_data",
          "data": {
            "text/plain": [
              "<Figure size 432x288 with 0 Axes>"
            ]
          },
          "metadata": {
            "tags": []
          }
        },
        {
          "output_type": "display_data",
          "data": {
            "image/png": "[encoded data removed]",
            "text/plain": [
              "<Figure size 432x288 with 4 Axes>"
            ]
          },
          "metadata": {
            "tags": [],
            "needs_background": "light"
          }
        }
      ]
    },
    {
      "cell_type": "markdown",
      "metadata": {
        "id": "OZPRgCa381ru"
      },
      "source": [
        "**READ DATASET FITS FORMAT**"
      ]
    },
    {
      "cell_type": "markdown",
      "metadata": {
        "id": "lJRIv4Hekmcp"
      },
      "source": [
        "display fit image from a directory"
      ]
    },
    {
      "cell_type": "code",
      "metadata": {
        "id": "zDLgd5wriW91"
      },
      "source": [
        "def display_fits(path):\n",
        "  hdul=fits.open(path)\n",
        "  hdr = hdul[0].header\n",
        "  size = hdr[3]\n",
        "  data = hdul[0].data.astype(np.float32)\n",
        "  image = np.reshape(data,[size,size])\n",
        "  plt.imshow(image)"
      ],
      "execution_count": 218,
      "outputs": []
    },
    {
      "cell_type": "markdown",
      "metadata": {
        "id": "p0qlXrN9kztv"
      },
      "source": [
        "read fit image dataset from a directory\n",
        "\n",
        "\n",
        "*   `path`: path where the images are\n",
        "*   `type_image`: *image* (simulated images) or *conv* (dirty images)\n",
        "*   `size_image`: TODO: comentar\n",
        "*   `initial`: initial index for the names of the saved images\n",
        "*   `final`: final index for the names of the saved images\n",
        "\n"
      ]
    },
    {
      "cell_type": "code",
      "metadata": {
        "id": "O27ZGSoik1WD"
      },
      "source": [
        "def get_dataset(path,type_image,size_image,initial,final):\n",
        "  images = []\n",
        "  path_file = path+'/'+type_image+'_'+str(size_image)+'x'+str(size_image)+'_'+str(initial)+'.fits'\n",
        "  #hdul=fits.open(path_file)  \n",
        "  #hdr = hdul[0].header\n",
        "  #size = hdr[3]\n",
        "  for i in range(initial,final):\n",
        "    path_file = path+'/'+type_image+'_'+str(size_image)+'x'+str(size_image)+'_'+str(i)+'.fits'\n",
        "    hdul=fits.open(path_file)\n",
        "    data = hdul[0].data.astype(np.float32)\n",
        "    image = np.reshape(data,[size_image,size_image])\n",
        "    images.append(image)\n",
        "  return images"
      ],
      "execution_count": 219,
      "outputs": []
    },
    {
      "cell_type": "markdown",
      "metadata": {
        "id": "DkR6C796k22i"
      },
      "source": [
        "Example: Read dataset simulated images"
      ]
    },
    {
      "cell_type": "code",
      "metadata": {
        "id": "nJlfIFw8_nPJ",
        "colab": {
          "base_uri": "https://localhost:8080/",
          "height": 0
        },
        "outputId": "132d38a8-dfba-4609-e233-0bb578f6abe2"
      },
      "source": [
        "simulted_images = get_dataset(PATH_SAVE,'image',N,INITIAL_READ,FINAL_READ)\n",
        "simulated_image_random  = random.choice(simulted_images)\n",
        "plt.imshow(simulated_image_random)"
      ],
      "execution_count": 220,
      "outputs": [
        {
          "output_type": "execute_result",
          "data": {
            "text/plain": [
              "<matplotlib.image.AxesImage at 0x7f2781d2a8d0>"
            ]
          },
          "metadata": {
            "tags": []
          },
          "execution_count": 220
        },
        {
          "output_type": "display_data",
          "data": {
            "image/png": "[encoded data removed]",
            "text/plain": [
              "<Figure size 432x288 with 1 Axes>"
            ]
          },
          "metadata": {
            "tags": [],
            "needs_background": "light"
          }
        }
      ]
    },
    {
      "cell_type": "markdown",
      "metadata": {
        "id": "Fiui3c6ujXxA"
      },
      "source": [
        "# PSF "
      ]
    },
    {
      "cell_type": "code",
      "metadata": {
        "id": "jj1TqjrIp9wr"
      },
      "source": [
        "def info_fit_path(path):\n",
        "   image_link = download_file(path, cache=True )\n",
        "   hdu_list = fits.open(image_link)\n",
        "   hdu_list.info()"
      ],
      "execution_count": 221,
      "outputs": []
    },
    {
      "cell_type": "code",
      "metadata": {
        "id": "nJhgrVV9pMqa"
      },
      "source": [
        "def getdata_fit_path(path):\n",
        "  image_link = download_file(path, cache=True )\n",
        "  image = fits.getdata(image_link).astype(np.float32)\n",
        "  image = np.reshape(image,[image.shape[2],image.shape[3]])\n",
        "  return image"
      ],
      "execution_count": 222,
      "outputs": []
    },
    {
      "cell_type": "markdown",
      "metadata": {
        "id": "xMtdCyBkm2PZ"
      },
      "source": [
        "**PSF real 128x128**"
      ]
    },
    {
      "cell_type": "code",
      "metadata": {
        "id": "2DAgC0FIpqxr",
        "colab": {
          "base_uri": "https://localhost:8080/",
          "height": 0
        },
        "outputId": "c4638acb-db08-48f6-ebd0-e57617b2adae"
      },
      "source": [
        "url_128x128 = 'https://github.com/nicolasalarconl/InterferometryDeepLearning/blob/main/4_hd142_128x128_08.psf.fits?raw=true'\n",
        "psf_128x128 = getdata_fit_path(url_128x128)\n",
        "plt.imshow(psf_128x128)\n",
        "info_fit_path(url_128x128)"
      ],
      "execution_count": 223,
      "outputs": [
        {
          "output_type": "stream",
          "text": [
            "Filename: /root/.astropy/cache/download/url/423d062de61cc8a03c5869b3ab47e189/contents\n",
            "No.    Name      Ver    Type      Cards   Dimensions   Format\n",
            "  0  PRIMARY       1 PrimaryHDU      77   (128, 128, 1, 1)   float32   \n"
          ],
          "name": "stdout"
        },
        {
          "output_type": "display_data",
          "data": {
            "image/png": "[encoded data removed]",
            "text/plain": [
              "<Figure size 432x288 with 1 Axes>"
            ]
          },
          "metadata": {
            "tags": [],
            "needs_background": "light"
          }
        }
      ]
    },
    {
      "cell_type": "markdown",
      "metadata": {
        "id": "9yZLLj3vm5gy"
      },
      "source": [
        "**PSF Gaussian**"
      ]
    },
    {
      "cell_type": "code",
      "metadata": {
        "id": "5j0qGnhbm4uk"
      },
      "source": [
        "def gauss(tamX,tamY,div):\n",
        "  x, y = np.meshgrid(np.linspace(-1,1,tamX), np.linspace(-1,1,tamY))\n",
        "  d = np.sqrt(x*x+y*y)\n",
        "  sigma, mu = 1/div, 0.0\n",
        "  gauss = np.exp(-( (d-mu)**2 / ( 2.0 * sigma**2 ) ) )\n",
        "  return gauss\n"
      ],
      "execution_count": 224,
      "outputs": []
    },
    {
      "cell_type": "markdown",
      "metadata": {
        "id": "AuIPZGxwuMec"
      },
      "source": [
        "Example PSF Gauss 128x128"
      ]
    },
    {
      "cell_type": "code",
      "metadata": {
        "id": "o4qzkIjCuL3d",
        "colab": {
          "base_uri": "https://localhost:8080/",
          "height": 0
        },
        "outputId": "df9e6f51-fb0d-4db1-8673-8d620b06bb62"
      },
      "source": [
        "psf_gauss_128x128 =gauss(128,128,64)\n",
        "plt.imshow(psf_gauss_128x128)"
      ],
      "execution_count": 225,
      "outputs": [
        {
          "output_type": "execute_result",
          "data": {
            "text/plain": [
              "<matplotlib.image.AxesImage at 0x7f2781be0950>"
            ]
          },
          "metadata": {
            "tags": []
          },
          "execution_count": 225
        },
        {
          "output_type": "display_data",
          "data": {
            "image/png": "[encoded data removed]",
            "text/plain": [
              "<Figure size 432x288 with 1 Axes>"
            ]
          },
          "metadata": {
            "tags": [],
            "needs_background": "light"
          }
        }
      ]
    },
    {
      "cell_type": "markdown",
      "metadata": {
        "id": "otOeCk1pBM0h"
      },
      "source": [
        "Example PSF Gauss 28x28"
      ]
    },
    {
      "cell_type": "code",
      "metadata": {
        "id": "Z30zqPE4BM50",
        "colab": {
          "base_uri": "https://localhost:8080/",
          "height": 0
        },
        "outputId": "ea5406be-e282-4027-e190-547f28b1b488"
      },
      "source": [
        "psf_gauss_28x28 =gauss(28,28,14)\n",
        "plt.imshow(psf_gauss_28x28)"
      ],
      "execution_count": 226,
      "outputs": [
        {
          "output_type": "execute_result",
          "data": {
            "text/plain": [
              "<matplotlib.image.AxesImage at 0x7f2781b4d150>"
            ]
          },
          "metadata": {
            "tags": []
          },
          "execution_count": 226
        },
        {
          "output_type": "display_data",
          "data": {
            "image/png": "[encoded data removed]",
            "text/plain": [
              "<Figure size 432x288 with 1 Axes>"
            ]
          },
          "metadata": {
            "tags": [],
            "needs_background": "light"
          }
        }
      ]
    },
    {
      "cell_type": "markdown",
      "metadata": {
        "id": "EMQvtJnEjezI"
      },
      "source": [
        "# Dirty Images"
      ]
    },
    {
      "cell_type": "markdown",
      "metadata": {
        "id": "NBhb-HScUtVa"
      },
      "source": [
        "**Params**"
      ]
    },
    {
      "cell_type": "code",
      "metadata": {
        "id": "wsGryJ73jhYt"
      },
      "source": [
        "DATASET_SIMULTED_IMAGES = get_dataset(PATH_READ,'image',N,INITIAL_READ,FINAL_READ)\n",
        "PSF = psf_gauss_28x28"
      ],
      "execution_count": 227,
      "outputs": []
    },
    {
      "cell_type": "markdown",
      "metadata": {
        "id": "V-4YiEh7wYI-"
      },
      "source": [
        "**Auxiliary functions**"
      ]
    },
    {
      "cell_type": "code",
      "metadata": {
        "id": "llCrnw3jwYQt"
      },
      "source": [
        "### display two images\n",
        "def display_two(a, b, title1 = \"Original\", title2 = \"Edited\"):\n",
        "    plt.subplot(121), plt.imshow(a), plt.title(title1)\n",
        "    plt.xticks([]), plt.yticks([])\n",
        "    plt.subplot(122), plt.imshow(b), plt.title(title2)\n",
        "    plt.xticks([]), plt.yticks([])\n",
        "    plt.show()\n",
        "\n",
        "# Display one image\n",
        "def display(a, title1 = \"Original\"):\n",
        "    plt.imshow(a), plt.title(title1)\n",
        "    plt.show()"
      ],
      "execution_count": 228,
      "outputs": []
    },
    {
      "cell_type": "markdown",
      "metadata": {
        "id": "5gvhc75CUsvr"
      },
      "source": [
        "**Convolution: PSF 128x128 cell 0.8 - Simulated Image**\n"
      ]
    },
    {
      "cell_type": "code",
      "metadata": {
        "id": "7TZ0rbCaP9XS",
        "colab": {
          "base_uri": "https://localhost:8080/",
          "height": 467
        },
        "outputId": "8d15a676-4373-45a2-fb81-943d0ddfdd81"
      },
      "source": [
        "simulated_image_random  = random.choice(simulted_images)\n",
        "display_two(psf_gauss_128x128,simulated_image_random,title1=\"psf 128x128 cell 0.8\",title2=\"simulated image\")\n",
        "conv_128x128_08 = ndimage.convolve(simulated_image_random,psf_gauss_128x128,mode='constant', cval=0.0)\n",
        "display(conv_128x128_08,\"dirty image\")"
      ],
      "execution_count": 229,
      "outputs": [
        {
          "output_type": "display_data",
          "data": {
            "image/png": "[encoded data removed]",
            "text/plain": [
              "<Figure size 432x288 with 2 Axes>"
            ]
          },
          "metadata": {
            "tags": []
          }
        },
        {
          "output_type": "display_data",
          "data": {
            "image/png": "[encoded data removed]",
            "text/plain": [
              "<Figure size 432x288 with 1 Axes>"
            ]
          },
          "metadata": {
            "tags": [],
            "needs_background": "light"
          }
        }
      ]
    },
    {
      "cell_type": "markdown",
      "metadata": {
        "id": "dmMLRHPkUsC3"
      },
      "source": [
        "**Convolution: PSF 128x128 - 3 Random Simulated Image**"
      ]
    },
    {
      "cell_type": "code",
      "metadata": {
        "id": "Yf3CXzjGOcZg",
        "colab": {
          "base_uri": "https://localhost:8080/",
          "height": 304
        },
        "outputId": "1b8db985-8ae5-4b24-fcdb-5c94b7f95206"
      },
      "source": [
        "simulated_images_random =  random.sample(simulted_images, 3)\n",
        "random_1_conv_128x128 = ndimage.convolve(simulated_images_random[0],psf_128x128,mode='constant', cval=0.0)\n",
        "random_2_conv_128x128 = ndimage.convolve(simulated_images_random[1],psf_128x128,mode='constant', cval=0.0)\n",
        "random_3_conv_128x128 = ndimage.convolve(simulated_images_random[2],psf_128x128,mode='constant', cval=0.0)\n",
        "\n",
        "plt.figure()\n",
        "f, axarr=plt.subplots(3,3)\n",
        "axarr[0,0].imshow(simulated_images_random[0])\n",
        "axarr[0,1].imshow(psf_gauss_128x128)\n",
        "axarr[0,2].imshow(random_1_conv_128x128)\n",
        "axarr[1,0].imshow(simulated_images_random[1])\n",
        "axarr[1,1].imshow(psf_gauss_128x128)\n",
        "axarr[1,2].imshow(random_2_conv_128x128)\n",
        "axarr[2,0].imshow(simulated_images_random[2])\n",
        "axarr[2,1].imshow(psf_gauss_128x128)\n",
        "axarr[2,2].imshow(random_3_conv_128x128)"
      ],
      "execution_count": 230,
      "outputs": [
        {
          "output_type": "execute_result",
          "data": {
            "text/plain": [
              "<matplotlib.image.AxesImage at 0x7f2781a65e10>"
            ]
          },
          "metadata": {
            "tags": []
          },
          "execution_count": 230
        },
        {
          "output_type": "display_data",
          "data": {
            "text/plain": [
              "<Figure size 432x288 with 0 Axes>"
            ]
          },
          "metadata": {
            "tags": []
          }
        },
        {
          "output_type": "display_data",
          "data": {
            "image/png": "[encoded data removed]",
            "text/plain": [
              "<Figure size 432x288 with 9 Axes>"
            ]
          },
          "metadata": {
            "tags": [],
            "needs_background": "light"
          }
        }
      ]
    },
    {
      "cell_type": "markdown",
      "metadata": {
        "id": "eClP2F4YUHQN"
      },
      "source": [
        "**Convolution: PSF Gaus 128x128- Simulated Image**"
      ]
    },
    {
      "cell_type": "code",
      "metadata": {
        "id": "yje9U5UnUHWe",
        "colab": {
          "base_uri": "https://localhost:8080/",
          "height": 467
        },
        "outputId": "03a48050-f2d0-4874-913c-6ae063daa2f4"
      },
      "source": [
        "display_two(psf_gauss_128x128,simulated_image_random,title1=\"psf gauss\",title2=\"simulated image\")\n",
        "conv_gauss = ndimage.convolve(simulated_image_random,psf_gauss_128x128,mode='constant', cval=0.0)\n",
        "display(conv_gauss,\"dirty image\")"
      ],
      "execution_count": 231,
      "outputs": [
        {
          "output_type": "display_data",
          "data": {
            "image/png": "[encoded data removed]",
            "text/plain": [
              "<Figure size 432x288 with 2 Axes>"
            ]
          },
          "metadata": {
            "tags": []
          }
        },
        {
          "output_type": "display_data",
          "data": {
            "image/png": "[encoded data removed]",
            "text/plain": [
              "<Figure size 432x288 with 1 Axes>"
            ]
          },
          "metadata": {
            "tags": [],
            "needs_background": "light"
          }
        }
      ]
    },
    {
      "cell_type": "markdown",
      "metadata": {
        "id": "tgwDBrxpGS7U"
      },
      "source": [
        "**Convolution: PSF Gaus 28x28- Simulated Image**"
      ]
    },
    {
      "cell_type": "code",
      "metadata": {
        "id": "X3xa84tLGTAx",
        "colab": {
          "base_uri": "https://localhost:8080/",
          "height": 467
        },
        "outputId": "6554c703-8f0d-41e4-8586-693b20ac8144"
      },
      "source": [
        "display_two(psf_gauss_28x28,simulated_image_random,title1=\"psf gauss\",title2=\"simulated image\")\n",
        "conv_gauss = ndimage.convolve(simulated_image_random,psf_gauss_28x28,mode='constant', cval=0.0)\n",
        "display(conv_gauss,\"dirty image\")"
      ],
      "execution_count": 232,
      "outputs": [
        {
          "output_type": "display_data",
          "data": {
            "image/png": "[encoded data removed]",
            "text/plain": [
              "<Figure size 432x288 with 2 Axes>"
            ]
          },
          "metadata": {
            "tags": []
          }
        },
        {
          "output_type": "display_data",
          "data": {
            "image/png": "[encoded data removed]",
            "text/plain": [
              "<Figure size 432x288 with 1 Axes>"
            ]
          },
          "metadata": {
            "tags": [],
            "needs_background": "light"
          }
        }
      ]
    },
    {
      "cell_type": "markdown",
      "metadata": {
        "id": "OZNRU_H8WGX1"
      },
      "source": [
        "**CREATE AND SAVE DIRTY IMAGES**"
      ]
    },
    {
      "cell_type": "markdown",
      "metadata": {
        "id": "MJ4xLZoLxO8o"
      },
      "source": [
        "\n",
        "\n",
        "*  `psf`: point spread function to convolve \n",
        "*  `psf_name`: label psf\n",
        "*  `images`: simulated image to convolve\n",
        "*  `path`: path where convolved images will be saved\n",
        "\n"
      ]
    },
    {
      "cell_type": "code",
      "metadata": {
        "id": "fKl_34nWWM5Q"
      },
      "source": [
        "def dataset_dirty(psf,images,path):\n",
        "  dataset = []\n",
        "  index = 0\n",
        "  size_psf = len(psf)\n",
        "  c  = 0\n",
        "  for image in images:\n",
        "    if (c%100 ==0):\n",
        "      print(c)\n",
        "    c = c +1\n",
        "    conv = ndimage.convolve(image,psf,mode='constant', cval=0.0)\n",
        "    hdu_image =fits.PrimaryHDU(conv)\n",
        "    hdu_image.writeto(path+'/conv_'+str(size_psf)+'x'+str(size_psf)+'_'+str(index)+'.fits',clobber=True)\n",
        "    dataset.append(conv)\n",
        "    index = index + 1 \n",
        "  return dataset"
      ],
      "execution_count": 233,
      "outputs": []
    },
    {
      "cell_type": "markdown",
      "metadata": {
        "id": "dlxnG4EsypKw"
      },
      "source": [
        "Example"
      ]
    },
    {
      "cell_type": "code",
      "metadata": {
        "id": "DskrXdfVkfp-",
        "colab": {
          "base_uri": "https://localhost:8080/",
          "height": 1000
        },
        "outputId": "6fdf72e1-477f-4f28-c3e1-453993e717f1"
      },
      "source": [
        "dirty_images = dataset_dirty(PSF,DATASET_SIMULTED_IMAGES,PATH_SAVE)\n",
        "list_random_dirty = random.sample(dirty_images, 4)\n",
        "plt.figure()\n",
        "f, axarr=plt.subplots(2,2)\n",
        "axarr[0,0].imshow(list_random_dirty[0])\n",
        "axarr[0,1].imshow(list_random_dirty[1])\n",
        "axarr[1,0].imshow(list_random_dirty[2])\n",
        "axarr[1,1].imshow(list_random_dirty[3])"
      ],
      "execution_count": 234,
      "outputs": [
        {
          "output_type": "stream",
          "text": [
            "0\n"
          ],
          "name": "stdout"
        },
        {
          "output_type": "stream",
          "text": [
            "WARNING: AstropyDeprecationWarning: \"clobber\" was deprecated in version 2.0 and will be removed in a future version. Use argument \"overwrite\" instead. [warnings]\n"
          ],
          "name": "stderr"
        },
        {
          "output_type": "stream",
          "text": [
            "100\n",
            "200\n",
            "300\n",
            "400\n",
            "500\n",
            "600\n",
            "700\n",
            "800\n",
            "900\n",
            "1000\n",
            "1100\n",
            "1200\n",
            "1300\n",
            "1400\n",
            "1500\n",
            "1600\n",
            "1700\n",
            "1800\n",
            "1900\n",
            "2000\n",
            "2100\n",
            "2200\n",
            "2300\n",
            "2400\n",
            "2500\n",
            "2600\n",
            "2700\n",
            "2800\n",
            "2900\n",
            "3000\n",
            "3100\n",
            "3200\n",
            "3300\n",
            "3400\n",
            "3500\n",
            "3600\n",
            "3700\n",
            "3800\n",
            "3900\n",
            "4000\n",
            "4100\n",
            "4200\n",
            "4300\n",
            "4400\n",
            "4500\n",
            "4600\n",
            "4700\n",
            "4800\n",
            "4900\n"
          ],
          "name": "stdout"
        },
        {
          "output_type": "execute_result",
          "data": {
            "text/plain": [
              "<matplotlib.image.AxesImage at 0x7f27817d1f50>"
            ]
          },
          "metadata": {
            "tags": []
          },
          "execution_count": 234
        },
        {
          "output_type": "display_data",
          "data": {
            "text/plain": [
              "<Figure size 432x288 with 0 Axes>"
            ]
          },
          "metadata": {
            "tags": []
          }
        },
        {
          "output_type": "display_data",
          "data": {
            "image/png": "[encoded data removed]",
            "text/plain": [
              "<Figure size 432x288 with 4 Axes>"
            ]
          },
          "metadata": {
            "tags": [],
            "needs_background": "light"
          }
        }
      ]
    },
    {
      "cell_type": "markdown",
      "metadata": {
        "id": "sOGsSPErPwOl"
      },
      "source": [
        "Read dataset dirty images"
      ]
    },
    {
      "cell_type": "code",
      "metadata": {
        "id": "9f28jfbHH0FZ",
        "colab": {
          "base_uri": "https://localhost:8080/",
          "height": 282
        },
        "outputId": "f28f77e7-42b5-4654-aeb9-5287b46cad4d"
      },
      "source": [
        "dirty_images = get_dataset(PATH_READ,'conv',N_PSF,INITIAL_READ,FINAL_READ)\n",
        "dirty_image_random  = random.choice(dirty_images)\n",
        "plt.imshow(dirty_image_random)"
      ],
      "execution_count": 235,
      "outputs": [
        {
          "output_type": "execute_result",
          "data": {
            "text/plain": [
              "<matplotlib.image.AxesImage at 0x7f278168dcd0>"
            ]
          },
          "metadata": {
            "tags": []
          },
          "execution_count": 235
        },
        {
          "output_type": "display_data",
          "data": {
            "image/png": "[encoded data removed]",
            "text/plain": [
              "<Figure size 432x288 with 1 Axes>"
            ]
          },
          "metadata": {
            "tags": [],
            "needs_background": "light"
          }
        }
      ]
    },
    {
      "cell_type": "markdown",
      "metadata": {
        "id": "uKW5tIafnchl"
      },
      "source": [
        "# Pytorch Dataset"
      ]
    },
    {
      "cell_type": "markdown",
      "metadata": {
        "id": "dqr7H_C219Pm"
      },
      "source": [
        "**Params**"
      ]
    },
    {
      "cell_type": "code",
      "metadata": {
        "id": "k2lHn9pxnvMl"
      },
      "source": [
        "size = FINAL_DATASET- INITIAL_DATASET  #size of lot of the dataset\n",
        "size_train = round(size*PERC_TRAIN) \n",
        "size_test =  round(size*PERC_TEST)  \n",
        "batch_size=  BATCH \n",
        "data_image = get_dataset(PATH,'image',N,INITIAL_DATASET,FINAL_DATASET)\n",
        "data_dirty  = get_dataset(PATH,'conv',N_PSF,INITIAL_DATASET,FINAL_DATASET)"
      ],
      "execution_count": 236,
      "outputs": []
    },
    {
      "cell_type": "markdown",
      "metadata": {
        "id": "j1eGRAkE4-Wa"
      },
      "source": [
        "TODO: Comentar como en tutorial (DATAset create)"
      ]
    },
    {
      "cell_type": "code",
      "metadata": {
        "id": "QkD8WPsiiarU"
      },
      "source": [
        "class interferometryDataset(Dataset):\n",
        "  def __init__(self,datasetnoised,datasetclean,transform):\n",
        "    self.noise=datasetnoised\n",
        "    self.clean=datasetclean\n",
        "    self.transform=transform\n",
        "  \n",
        "  def __len__(self):\n",
        "    return len(self.noise)\n",
        "  \n",
        "  def __getitem__(self,idx):\n",
        "    xNoise=self.noise[idx]\n",
        "    xClean=self.clean[idx]\n",
        "    \n",
        "    if self.transform != None:\n",
        "      xNoise=self.transform(xNoise)\n",
        "      xClean=self.transform(xClean)\n",
        "\n",
        "    return (xNoise,xClean)"
      ],
      "execution_count": 237,
      "outputs": []
    },
    {
      "cell_type": "markdown",
      "metadata": {
        "id": "QF5t_mpl4WmG"
      },
      "source": [
        "we define the transforms for the images of dataset."
      ]
    },
    {
      "cell_type": "code",
      "metadata": {
        "id": "gs0CuSl-4WcR"
      },
      "source": [
        "tsfms=transforms.Compose([\n",
        "    transforms.ToTensor()\n",
        "])"
      ],
      "execution_count": 238,
      "outputs": []
    },
    {
      "cell_type": "markdown",
      "metadata": {
        "id": "_bFH3U2v48ZF"
      },
      "source": [
        "we divide the images into training and test sets"
      ]
    },
    {
      "cell_type": "code",
      "metadata": {
        "id": "e4xkNrSrlVsp"
      },
      "source": [
        "train_dirty = data_dirty[0:size_train]\n",
        "train_images = data_image[0:size_train]\n",
        "\n",
        "test_dirty = data_dirty[size_train:size_train+size_test]\n",
        "test_image = data_image[size_train:size_train+size_test]"
      ],
      "execution_count": 239,
      "outputs": []
    },
    {
      "cell_type": "markdown",
      "metadata": {
        "id": "ecpnycPc6Zs4"
      },
      "source": [
        "we generate the dataset using `Dataloard` that eases the task of making iterable training and testing sets. "
      ]
    },
    {
      "cell_type": "code",
      "metadata": {
        "id": "CeibVshrkm8P"
      },
      "source": [
        "trainset=interferometryDataset(train_dirty,train_images,tsfms)\n",
        "testset=interferometryDataset(test_dirty,test_image,tsfms)\n",
        "trainloader=DataLoader(trainset,batch_size,shuffle=True)\n",
        "testloader=DataLoader(testset,batch_size,shuffle=True)"
      ],
      "execution_count": 240,
      "outputs": []
    },
    {
      "cell_type": "markdown",
      "metadata": {
        "id": "AE5ARIWkoTtL"
      },
      "source": [
        "# Deep Learning"
      ]
    },
    {
      "cell_type": "markdown",
      "metadata": {
        "id": "qrO14pTK7oNR"
      },
      "source": [
        "**Auxiliary functions**"
      ]
    },
    {
      "cell_type": "markdown",
      "metadata": {
        "id": "BMXYUFfY7zjD"
      },
      "source": [
        "returns the CUDA GPU device or the CPU depending upon the availability. "
      ]
    },
    {
      "cell_type": "code",
      "metadata": {
        "id": "-u8aSC_X7yhX"
      },
      "source": [
        "def get_device():\n",
        "    if torch.cuda.is_available():\n",
        "        device = 'cuda:0'\n",
        "    else:\n",
        "        device = 'cpu'\n",
        "    return device"
      ],
      "execution_count": 241,
      "outputs": []
    },
    {
      "cell_type": "markdown",
      "metadata": {
        "id": "JaY4Py3D99RD"
      },
      "source": [
        "TODO: Comentar"
      ]
    },
    {
      "cell_type": "code",
      "metadata": {
        "id": "-SbUG7sY72KD"
      },
      "source": [
        "def save_decoded_image(img, name):\n",
        "    img = img.view(img.size(0), 1, 28, 28)\n",
        "    save_image(img, name)"
      ],
      "execution_count": 242,
      "outputs": []
    },
    {
      "cell_type": "markdown",
      "metadata": {
        "id": "TQE5688j9Lq0"
      },
      "source": [
        "TODO: Comentar"
      ]
    },
    {
      "cell_type": "code",
      "metadata": {
        "colab": {
          "base_uri": "https://localhost:8080/"
        },
        "id": "HbchWHocox71",
        "outputId": "4176d152-23d5-4556-dd9c-b717fd5c1485"
      },
      "source": [
        "# the autoencoder network\n",
        "class Autoencoder(nn.Module):\n",
        "    def __init__(self):\n",
        "        super(Autoencoder, self).__init__()\n",
        "        # encoder layers\n",
        "        self.enc1 = nn.Conv2d(1, 64, kernel_size=3, padding=1)\n",
        "        self.enc2 = nn.Conv2d(64, 32, kernel_size=3, padding=1)\n",
        "        self.enc3 = nn.Conv2d(32, 16, kernel_size=3, padding=1)\n",
        "        self.enc4 = nn.Conv2d(16, 8, kernel_size=3, padding=1)\n",
        "        self.pool = nn.MaxPool2d(2, 2)\n",
        "        \n",
        "        # decoder layers\n",
        "        self.dec1 = nn.ConvTranspose2d(8, 8, kernel_size=3, stride=2)  \n",
        "        self.dec2 = nn.ConvTranspose2d(8, 16, kernel_size=3, stride=2)\n",
        "        self.dec3 = nn.ConvTranspose2d(16, 32, kernel_size=2, stride=2)\n",
        "        self.dec4 = nn.ConvTranspose2d(32, 64, kernel_size=2, stride=2)\n",
        "        self.out = nn.Conv2d(64, 1, kernel_size=3)\n",
        "    def forward(self, x):\n",
        "        # encode\n",
        "        x = F.relu(self.enc1(x))\n",
        "        x = self.pool(x)\n",
        "        x = F.relu(self.enc2(x))\n",
        "        x = self.pool(x)\n",
        "        x = F.relu(self.enc3(x))\n",
        "        x = self.pool(x)\n",
        "        x = F.relu(self.enc4(x))\n",
        "        x = self.pool(x) # the latent space representation\n",
        "        \n",
        "        # decode\n",
        "        x = F.relu(self.dec1(x))\n",
        "        x = F.relu(self.dec2(x))\n",
        "        x = F.relu(self.dec3(x))\n",
        "        x = F.relu(self.dec4(x))\n",
        "        x = F.sigmoid(self.out(x))\n",
        "        return x\n",
        "net = Autoencoder()\n",
        "print(net)"
      ],
      "execution_count": 243,
      "outputs": [
        {
          "output_type": "stream",
          "text": [
            "Autoencoder(\n",
            "  (enc1): Conv2d(1, 64, kernel_size=(3, 3), stride=(1, 1), padding=(1, 1))\n",
            "  (enc2): Conv2d(64, 32, kernel_size=(3, 3), stride=(1, 1), padding=(1, 1))\n",
            "  (enc3): Conv2d(32, 16, kernel_size=(3, 3), stride=(1, 1), padding=(1, 1))\n",
            "  (enc4): Conv2d(16, 8, kernel_size=(3, 3), stride=(1, 1), padding=(1, 1))\n",
            "  (pool): MaxPool2d(kernel_size=2, stride=2, padding=0, dilation=1, ceil_mode=False)\n",
            "  (dec1): ConvTranspose2d(8, 8, kernel_size=(3, 3), stride=(2, 2))\n",
            "  (dec2): ConvTranspose2d(8, 16, kernel_size=(3, 3), stride=(2, 2))\n",
            "  (dec3): ConvTranspose2d(16, 32, kernel_size=(2, 2), stride=(2, 2))\n",
            "  (dec4): ConvTranspose2d(32, 64, kernel_size=(2, 2), stride=(2, 2))\n",
            "  (out): Conv2d(64, 1, kernel_size=(3, 3), stride=(1, 1))\n",
            ")\n"
          ],
          "name": "stdout"
        }
      ]
    },
    {
      "cell_type": "code",
      "metadata": {
        "id": "RmsbxIylo0WH"
      },
      "source": [
        "criterion = nn.MSELoss()\n",
        "# the optimizer\n",
        "optimizer = optim.Adam(net.parameters(), lr=LEARNING_RATE)"
      ],
      "execution_count": 244,
      "outputs": []
    },
    {
      "cell_type": "code",
      "metadata": {
        "id": "lT3qExQxo19c"
      },
      "source": [
        "def train(net, trainloader, NUM_EPOCHS,path):\n",
        "    train_loss = []\n",
        "    for epoch in range(NUM_EPOCHS):\n",
        "        running_loss = 0.0\n",
        "        for dirty,clean in tqdm((trainloader)):\n",
        "            #dirty=np.clip(dirty, 0., 1.)\n",
        "            #clean=np.clip(clean, 0., 1.)\n",
        "            dirty,clean=dirty.to(device),clean.to(device)\n",
        "            print(dirty.shape)\n",
        "            print(clean.shape)\n",
        "            optimizer.zero_grad()            \n",
        "            outputs = net(dirty)\n",
        "            print(dirty)\n",
        "            loss = criterion(outputs, clean)\n",
        "            # backpropagation\n",
        "            loss.backward()\n",
        "            # update the parameters\n",
        "            optimizer.step()\n",
        "            running_loss += loss.item()\n",
        "        loss = running_loss / len(trainloader)\n",
        "        train_loss.append(loss)\n",
        "        print('Epoch {} of {}, Train Loss: {:.3f}'.format(\n",
        "            epoch+1, NUM_EPOCHS, loss))\n",
        "        save_decoded_image(dirty.cpu().data, name='./'+path+'/noisy{}.png'.format(epoch))\n",
        "        save_decoded_image(outputs.cpu().data, name='./'+path+'/denoised{}.png'.format(epoch))\n",
        "        save_decoded_image(clean.cpu().data, name='./'+path+'/clean{}.png'.format(epoch))\n",
        "    return train_loss"
      ],
      "execution_count": 245,
      "outputs": []
    },
    {
      "cell_type": "code",
      "metadata": {
        "id": "NT8C2VSro4Sn"
      },
      "source": [
        "def test_image_reconstruction(net, testloader,path):\n",
        "  pnsr_1_list = []\n",
        "  pnsr_2_list = []\n",
        "  pnsr_3_list = []\n",
        "  cout = 0\n",
        "  for dirty,clean in tqdm((testloader)):\n",
        "    dirty,clean=dirty.to(device),clean.to(device)\n",
        "    output = net(dirty)\n",
        "    output = output.cpu().data\n",
        "    clean = clean.cpu().data\n",
        "    dirty = dirty.cpu().data\n",
        "    psnr_1 = cv2.PSNR(np.array(clean), np.array(output))\n",
        "    psnr_2 = cv2.PSNR(np.array(clean), np.array(dirty))\n",
        "    psnr_3 = cv2.PSNR(np.array(dirty), np.array(output))\n",
        "    pnsr_1_list.append(psnr_1)\n",
        "    pnsr_2_list.append(psnr_2)\n",
        "    pnsr_3_list.append(psnr_3)\n",
        "    save_decoded_image(dirty.cpu().data, name='./'+path+'/noisy{}.png'.format(count))\n",
        "    save_decoded_image(outputs.cpu().data, name='./'+path+'/denoised{}.png'.format(v))\n",
        "    save_decoded_image(clean.cpu().data,  name='./'+path+'/clean{}.png'.format(count))\n",
        "    count = count+1 \n",
        "  return [pnsr_1_list,pnsr_2_list,pnsr_3_list]"
      ],
      "execution_count": 246,
      "outputs": []
    },
    {
      "cell_type": "code",
      "metadata": {
        "colab": {
          "base_uri": "https://localhost:8080/"
        },
        "id": "VIuHxkdao7YJ",
        "outputId": "aa2f1bf6-3189-4641-a3fe-2786cc72d2db"
      },
      "source": [
        "device = get_device()\n",
        "print(device)\n",
        "net.to(device)\n",
        "\n",
        "# test_image_reconstruction(net, train_test)"
      ],
      "execution_count": 247,
      "outputs": [
        {
          "output_type": "stream",
          "text": [
            "cuda:0\n"
          ],
          "name": "stdout"
        },
        {
          "output_type": "execute_result",
          "data": {
            "text/plain": [
              "Autoencoder(\n",
              "  (enc1): Conv2d(1, 64, kernel_size=(3, 3), stride=(1, 1), padding=(1, 1))\n",
              "  (enc2): Conv2d(64, 32, kernel_size=(3, 3), stride=(1, 1), padding=(1, 1))\n",
              "  (enc3): Conv2d(32, 16, kernel_size=(3, 3), stride=(1, 1), padding=(1, 1))\n",
              "  (enc4): Conv2d(16, 8, kernel_size=(3, 3), stride=(1, 1), padding=(1, 1))\n",
              "  (pool): MaxPool2d(kernel_size=2, stride=2, padding=0, dilation=1, ceil_mode=False)\n",
              "  (dec1): ConvTranspose2d(8, 8, kernel_size=(3, 3), stride=(2, 2))\n",
              "  (dec2): ConvTranspose2d(8, 16, kernel_size=(3, 3), stride=(2, 2))\n",
              "  (dec3): ConvTranspose2d(16, 32, kernel_size=(2, 2), stride=(2, 2))\n",
              "  (dec4): ConvTranspose2d(32, 64, kernel_size=(2, 2), stride=(2, 2))\n",
              "  (out): Conv2d(64, 1, kernel_size=(3, 3), stride=(1, 1))\n",
              ")"
            ]
          },
          "metadata": {
            "tags": []
          },
          "execution_count": 247
        }
      ]
    },
    {
      "cell_type": "code",
      "metadata": {
        "colab": {
          "base_uri": "https://localhost:8080/",
          "height": 1000
        },
        "id": "ih3ctZc-BGSL",
        "outputId": "68447af2-12c2-41ef-de3b-ac6a0e44babb"
      },
      "source": [
        "make_dir(PATH_TRAIN)\n",
        "train_loss = train(net, trainloader, NUM_EPOCHS,PATH_TRAIN)\n",
        "plt.figure()\n",
        "plt.plot(train_loss)\n",
        "plt.title('Train Loss')\n",
        "plt.xlabel('Epochs')\n",
        "plt.ylabel('Loss')\n",
        "plt.savefig('./Saved_Images/conv_ae_fahsionmnist_loss.png')"
      ],
      "execution_count": 248,
      "outputs": [
        {
          "output_type": "stream",
          "text": [
            "  0%|          | 0/438 [00:00<?, ?it/s]/usr/local/lib/python3.7/dist-packages/torch/nn/functional.py:1709: UserWarning: nn.functional.sigmoid is deprecated. Use torch.sigmoid instead.\n",
            "  warnings.warn(\"nn.functional.sigmoid is deprecated. Use torch.sigmoid instead.\")\n",
            "/usr/local/lib/python3.7/dist-packages/torch/nn/modules/loss.py:528: UserWarning: Using a target size (torch.Size([8, 1, 28, 28])) that is different to the input size (torch.Size([8, 1, 26, 26])). This will likely lead to incorrect results due to broadcasting. Please ensure they have the same size.\n",
            "  return F.mse_loss(input, target, reduction=self.reduction)\n",
            "  0%|          | 0/438 [00:00<?, ?it/s]"
          ],
          "name": "stderr"
        },
        {
          "output_type": "stream",
          "text": [
            "torch.Size([8, 1, 28, 28])\n",
            "torch.Size([8, 1, 28, 28])\n",
            "tensor([[[[0., 0., 0.,  ..., 0., 0., 0.],\n",
            "          [0., 0., 0.,  ..., 0., 0., 0.],\n",
            "          [0., 0., 0.,  ..., 0., 0., 0.],\n",
            "          ...,\n",
            "          [0., 0., 0.,  ..., 0., 0., 0.],\n",
            "          [0., 0., 0.,  ..., 0., 0., 0.],\n",
            "          [0., 0., 0.,  ..., 0., 0., 0.]]],\n",
            "\n",
            "\n",
            "        [[[0., 0., 0.,  ..., 0., 0., 0.],\n",
            "          [0., 0., 0.,  ..., 0., 0., 0.],\n",
            "          [0., 0., 0.,  ..., 0., 0., 0.],\n",
            "          ...,\n",
            "          [0., 0., 0.,  ..., 0., 0., 0.],\n",
            "          [0., 0., 0.,  ..., 0., 0., 0.],\n",
            "          [0., 0., 0.,  ..., 0., 0., 0.]]],\n",
            "\n",
            "\n",
            "        [[[0., 0., 0.,  ..., 0., 0., 0.],\n",
            "          [0., 0., 0.,  ..., 0., 0., 0.],\n",
            "          [0., 0., 0.,  ..., 0., 0., 0.],\n",
            "          ...,\n",
            "          [0., 0., 0.,  ..., 0., 0., 0.],\n",
            "          [0., 0., 0.,  ..., 0., 0., 0.],\n",
            "          [0., 0., 0.,  ..., 0., 0., 0.]]],\n",
            "\n",
            "\n",
            "        ...,\n",
            "\n",
            "\n",
            "        [[[0., 0., 0.,  ..., 0., 0., 0.],\n",
            "          [0., 0., 0.,  ..., 0., 0., 0.],\n",
            "          [0., 0., 0.,  ..., 0., 0., 0.],\n",
            "          ...,\n",
            "          [0., 0., 0.,  ..., 0., 0., 0.],\n",
            "          [0., 0., 0.,  ..., 0., 0., 0.],\n",
            "          [0., 0., 0.,  ..., 0., 0., 0.]]],\n",
            "\n",
            "\n",
            "        [[[0., 0., 0.,  ..., 0., 0., 0.],\n",
            "          [0., 0., 0.,  ..., 0., 0., 0.],\n",
            "          [0., 0., 0.,  ..., 0., 0., 0.],\n",
            "          ...,\n",
            "          [0., 0., 0.,  ..., 0., 0., 0.],\n",
            "          [0., 0., 0.,  ..., 0., 0., 0.],\n",
            "          [0., 0., 0.,  ..., 0., 0., 0.]]],\n",
            "\n",
            "\n",
            "        [[[0., 0., 0.,  ..., 0., 0., 0.],\n",
            "          [0., 0., 0.,  ..., 0., 0., 0.],\n",
            "          [0., 0., 0.,  ..., 0., 0., 0.],\n",
            "          ...,\n",
            "          [0., 0., 0.,  ..., 0., 0., 0.],\n",
            "          [0., 0., 0.,  ..., 0., 0., 0.],\n",
            "          [0., 0., 0.,  ..., 0., 0., 0.]]]], device='cuda:0')\n"
          ],
          "name": "stdout"
        },
        {
          "output_type": "stream",
          "text": [
            "\n"
          ],
          "name": "stderr"
        },
        {
          "output_type": "error",
          "ename": "RuntimeError",
          "evalue": "ignored",
          "traceback": [
            "\u001b[0;31m---------------------------------------------------------------------------\u001b[0m",
            "\u001b[0;31mRuntimeError\u001b[0m                              Traceback (most recent call last)",
            "\u001b[0;32m<ipython-input-248-6f9cd9af5e01>\u001b[0m in \u001b[0;36m<module>\u001b[0;34m()\u001b[0m\n\u001b[1;32m      1\u001b[0m \u001b[0mmake_dir\u001b[0m\u001b[0;34m(\u001b[0m\u001b[0mPATH_TRAIN\u001b[0m\u001b[0;34m)\u001b[0m\u001b[0;34m\u001b[0m\u001b[0;34m\u001b[0m\u001b[0m\n\u001b[0;32m----> 2\u001b[0;31m \u001b[0mtrain_loss\u001b[0m \u001b[0;34m=\u001b[0m \u001b[0mtrain\u001b[0m\u001b[0;34m(\u001b[0m\u001b[0mnet\u001b[0m\u001b[0;34m,\u001b[0m \u001b[0mtrainloader\u001b[0m\u001b[0;34m,\u001b[0m \u001b[0mNUM_EPOCHS\u001b[0m\u001b[0;34m,\u001b[0m\u001b[0mPATH_TRAIN\u001b[0m\u001b[0;34m)\u001b[0m\u001b[0;34m\u001b[0m\u001b[0;34m\u001b[0m\u001b[0m\n\u001b[0m\u001b[1;32m      3\u001b[0m \u001b[0mplt\u001b[0m\u001b[0;34m.\u001b[0m\u001b[0mfigure\u001b[0m\u001b[0;34m(\u001b[0m\u001b[0;34m)\u001b[0m\u001b[0;34m\u001b[0m\u001b[0;34m\u001b[0m\u001b[0m\n\u001b[1;32m      4\u001b[0m \u001b[0mplt\u001b[0m\u001b[0;34m.\u001b[0m\u001b[0mplot\u001b[0m\u001b[0;34m(\u001b[0m\u001b[0mtrain_loss\u001b[0m\u001b[0;34m)\u001b[0m\u001b[0;34m\u001b[0m\u001b[0;34m\u001b[0m\u001b[0m\n\u001b[1;32m      5\u001b[0m \u001b[0mplt\u001b[0m\u001b[0;34m.\u001b[0m\u001b[0mtitle\u001b[0m\u001b[0;34m(\u001b[0m\u001b[0;34m'Train Loss'\u001b[0m\u001b[0;34m)\u001b[0m\u001b[0;34m\u001b[0m\u001b[0;34m\u001b[0m\u001b[0m\n",
            "\u001b[0;32m<ipython-input-245-63ef4028eef6>\u001b[0m in \u001b[0;36mtrain\u001b[0;34m(net, trainloader, NUM_EPOCHS, path)\u001b[0m\n\u001b[1;32m     12\u001b[0m             \u001b[0moutputs\u001b[0m \u001b[0;34m=\u001b[0m \u001b[0mnet\u001b[0m\u001b[0;34m(\u001b[0m\u001b[0mdirty\u001b[0m\u001b[0;34m)\u001b[0m\u001b[0;34m\u001b[0m\u001b[0;34m\u001b[0m\u001b[0m\n\u001b[1;32m     13\u001b[0m             \u001b[0mprint\u001b[0m\u001b[0;34m(\u001b[0m\u001b[0mdirty\u001b[0m\u001b[0;34m)\u001b[0m\u001b[0;34m\u001b[0m\u001b[0;34m\u001b[0m\u001b[0m\n\u001b[0;32m---> 14\u001b[0;31m             \u001b[0mloss\u001b[0m \u001b[0;34m=\u001b[0m \u001b[0mcriterion\u001b[0m\u001b[0;34m(\u001b[0m\u001b[0moutputs\u001b[0m\u001b[0;34m,\u001b[0m \u001b[0mclean\u001b[0m\u001b[0;34m)\u001b[0m\u001b[0;34m\u001b[0m\u001b[0;34m\u001b[0m\u001b[0m\n\u001b[0m\u001b[1;32m     15\u001b[0m             \u001b[0;31m# backpropagation\u001b[0m\u001b[0;34m\u001b[0m\u001b[0;34m\u001b[0m\u001b[0;34m\u001b[0m\u001b[0m\n\u001b[1;32m     16\u001b[0m             \u001b[0mloss\u001b[0m\u001b[0;34m.\u001b[0m\u001b[0mbackward\u001b[0m\u001b[0;34m(\u001b[0m\u001b[0;34m)\u001b[0m\u001b[0;34m\u001b[0m\u001b[0;34m\u001b[0m\u001b[0m\n",
            "\u001b[0;32m/usr/local/lib/python3.7/dist-packages/torch/nn/modules/module.py\u001b[0m in \u001b[0;36m_call_impl\u001b[0;34m(self, *input, **kwargs)\u001b[0m\n\u001b[1;32m    887\u001b[0m             \u001b[0mresult\u001b[0m \u001b[0;34m=\u001b[0m \u001b[0mself\u001b[0m\u001b[0;34m.\u001b[0m\u001b[0m_slow_forward\u001b[0m\u001b[0;34m(\u001b[0m\u001b[0;34m*\u001b[0m\u001b[0minput\u001b[0m\u001b[0;34m,\u001b[0m \u001b[0;34m**\u001b[0m\u001b[0mkwargs\u001b[0m\u001b[0;34m)\u001b[0m\u001b[0;34m\u001b[0m\u001b[0;34m\u001b[0m\u001b[0m\n\u001b[1;32m    888\u001b[0m         \u001b[0;32melse\u001b[0m\u001b[0;34m:\u001b[0m\u001b[0;34m\u001b[0m\u001b[0;34m\u001b[0m\u001b[0m\n\u001b[0;32m--> 889\u001b[0;31m             \u001b[0mresult\u001b[0m \u001b[0;34m=\u001b[0m \u001b[0mself\u001b[0m\u001b[0;34m.\u001b[0m\u001b[0mforward\u001b[0m\u001b[0;34m(\u001b[0m\u001b[0;34m*\u001b[0m\u001b[0minput\u001b[0m\u001b[0;34m,\u001b[0m \u001b[0;34m**\u001b[0m\u001b[0mkwargs\u001b[0m\u001b[0;34m)\u001b[0m\u001b[0;34m\u001b[0m\u001b[0;34m\u001b[0m\u001b[0m\n\u001b[0m\u001b[1;32m    890\u001b[0m         for hook in itertools.chain(\n\u001b[1;32m    891\u001b[0m                 \u001b[0m_global_forward_hooks\u001b[0m\u001b[0;34m.\u001b[0m\u001b[0mvalues\u001b[0m\u001b[0;34m(\u001b[0m\u001b[0;34m)\u001b[0m\u001b[0;34m,\u001b[0m\u001b[0;34m\u001b[0m\u001b[0;34m\u001b[0m\u001b[0m\n",
            "\u001b[0;32m/usr/local/lib/python3.7/dist-packages/torch/nn/modules/loss.py\u001b[0m in \u001b[0;36mforward\u001b[0;34m(self, input, target)\u001b[0m\n\u001b[1;32m    526\u001b[0m \u001b[0;34m\u001b[0m\u001b[0m\n\u001b[1;32m    527\u001b[0m     \u001b[0;32mdef\u001b[0m \u001b[0mforward\u001b[0m\u001b[0;34m(\u001b[0m\u001b[0mself\u001b[0m\u001b[0;34m,\u001b[0m \u001b[0minput\u001b[0m\u001b[0;34m:\u001b[0m \u001b[0mTensor\u001b[0m\u001b[0;34m,\u001b[0m \u001b[0mtarget\u001b[0m\u001b[0;34m:\u001b[0m \u001b[0mTensor\u001b[0m\u001b[0;34m)\u001b[0m \u001b[0;34m->\u001b[0m \u001b[0mTensor\u001b[0m\u001b[0;34m:\u001b[0m\u001b[0;34m\u001b[0m\u001b[0;34m\u001b[0m\u001b[0m\n\u001b[0;32m--> 528\u001b[0;31m         \u001b[0;32mreturn\u001b[0m \u001b[0mF\u001b[0m\u001b[0;34m.\u001b[0m\u001b[0mmse_loss\u001b[0m\u001b[0;34m(\u001b[0m\u001b[0minput\u001b[0m\u001b[0;34m,\u001b[0m \u001b[0mtarget\u001b[0m\u001b[0;34m,\u001b[0m \u001b[0mreduction\u001b[0m\u001b[0;34m=\u001b[0m\u001b[0mself\u001b[0m\u001b[0;34m.\u001b[0m\u001b[0mreduction\u001b[0m\u001b[0;34m)\u001b[0m\u001b[0;34m\u001b[0m\u001b[0;34m\u001b[0m\u001b[0m\n\u001b[0m\u001b[1;32m    529\u001b[0m \u001b[0;34m\u001b[0m\u001b[0m\n\u001b[1;32m    530\u001b[0m \u001b[0;34m\u001b[0m\u001b[0m\n",
            "\u001b[0;32m/usr/local/lib/python3.7/dist-packages/torch/nn/functional.py\u001b[0m in \u001b[0;36mmse_loss\u001b[0;34m(input, target, size_average, reduce, reduction)\u001b[0m\n\u001b[1;32m   2926\u001b[0m         \u001b[0mreduction\u001b[0m \u001b[0;34m=\u001b[0m \u001b[0m_Reduction\u001b[0m\u001b[0;34m.\u001b[0m\u001b[0mlegacy_get_string\u001b[0m\u001b[0;34m(\u001b[0m\u001b[0msize_average\u001b[0m\u001b[0;34m,\u001b[0m \u001b[0mreduce\u001b[0m\u001b[0;34m)\u001b[0m\u001b[0;34m\u001b[0m\u001b[0;34m\u001b[0m\u001b[0m\n\u001b[1;32m   2927\u001b[0m \u001b[0;34m\u001b[0m\u001b[0m\n\u001b[0;32m-> 2928\u001b[0;31m     \u001b[0mexpanded_input\u001b[0m\u001b[0;34m,\u001b[0m \u001b[0mexpanded_target\u001b[0m \u001b[0;34m=\u001b[0m \u001b[0mtorch\u001b[0m\u001b[0;34m.\u001b[0m\u001b[0mbroadcast_tensors\u001b[0m\u001b[0;34m(\u001b[0m\u001b[0minput\u001b[0m\u001b[0;34m,\u001b[0m \u001b[0mtarget\u001b[0m\u001b[0;34m)\u001b[0m\u001b[0;34m\u001b[0m\u001b[0;34m\u001b[0m\u001b[0m\n\u001b[0m\u001b[1;32m   2929\u001b[0m     \u001b[0;32mreturn\u001b[0m \u001b[0mtorch\u001b[0m\u001b[0;34m.\u001b[0m\u001b[0m_C\u001b[0m\u001b[0;34m.\u001b[0m\u001b[0m_nn\u001b[0m\u001b[0;34m.\u001b[0m\u001b[0mmse_loss\u001b[0m\u001b[0;34m(\u001b[0m\u001b[0mexpanded_input\u001b[0m\u001b[0;34m,\u001b[0m \u001b[0mexpanded_target\u001b[0m\u001b[0;34m,\u001b[0m \u001b[0m_Reduction\u001b[0m\u001b[0;34m.\u001b[0m\u001b[0mget_enum\u001b[0m\u001b[0;34m(\u001b[0m\u001b[0mreduction\u001b[0m\u001b[0;34m)\u001b[0m\u001b[0;34m)\u001b[0m\u001b[0;34m\u001b[0m\u001b[0;34m\u001b[0m\u001b[0m\n\u001b[1;32m   2930\u001b[0m \u001b[0;34m\u001b[0m\u001b[0m\n",
            "\u001b[0;32m/usr/local/lib/python3.7/dist-packages/torch/functional.py\u001b[0m in \u001b[0;36mbroadcast_tensors\u001b[0;34m(*tensors)\u001b[0m\n\u001b[1;32m     72\u001b[0m     \u001b[0;32mif\u001b[0m \u001b[0mhas_torch_function\u001b[0m\u001b[0;34m(\u001b[0m\u001b[0mtensors\u001b[0m\u001b[0;34m)\u001b[0m\u001b[0;34m:\u001b[0m\u001b[0;34m\u001b[0m\u001b[0;34m\u001b[0m\u001b[0m\n\u001b[1;32m     73\u001b[0m         \u001b[0;32mreturn\u001b[0m \u001b[0mhandle_torch_function\u001b[0m\u001b[0;34m(\u001b[0m\u001b[0mbroadcast_tensors\u001b[0m\u001b[0;34m,\u001b[0m \u001b[0mtensors\u001b[0m\u001b[0;34m,\u001b[0m \u001b[0;34m*\u001b[0m\u001b[0mtensors\u001b[0m\u001b[0;34m)\u001b[0m\u001b[0;34m\u001b[0m\u001b[0;34m\u001b[0m\u001b[0m\n\u001b[0;32m---> 74\u001b[0;31m     \u001b[0;32mreturn\u001b[0m \u001b[0m_VF\u001b[0m\u001b[0;34m.\u001b[0m\u001b[0mbroadcast_tensors\u001b[0m\u001b[0;34m(\u001b[0m\u001b[0mtensors\u001b[0m\u001b[0;34m)\u001b[0m  \u001b[0;31m# type: ignore\u001b[0m\u001b[0;34m\u001b[0m\u001b[0;34m\u001b[0m\u001b[0m\n\u001b[0m\u001b[1;32m     75\u001b[0m \u001b[0;34m\u001b[0m\u001b[0m\n\u001b[1;32m     76\u001b[0m \u001b[0;34m\u001b[0m\u001b[0m\n",
            "\u001b[0;31mRuntimeError\u001b[0m: The size of tensor a (26) must match the size of tensor b (28) at non-singleton dimension 3"
          ]
        }
      ]
    },
    {
      "cell_type": "code",
      "metadata": {
        "id": "_k0nIxLCBBAm"
      },
      "source": [
        "make_dir(PATH_TEST) \n",
        "psnr_1_2_3 = test_image_reconstruction(net, testloader,PATH_TEST)"
      ],
      "execution_count": null,
      "outputs": []
    },
    {
      "cell_type": "code",
      "metadata": {
        "id": "4XUAE9GmIIuz"
      },
      "source": [
        "plt.hist(psnr_1_2_3[0],  linewidth=1, label ='clean-output')\n",
        "plt.hist(psnr_1_2_3[1],  linewidth=1, label = 'clean-dirty')\n",
        "plt.hist(psnr_1_2_3[2], linewidth=1, label = 'dirty-output')\n",
        "plt.legend(loc='upper right')\n",
        "plt.show()\n",
        "\n",
        "\n"
      ],
      "execution_count": null,
      "outputs": []
    }
  ]
}