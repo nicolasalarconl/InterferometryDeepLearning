{
 "cells": [
  {
   "cell_type": "markdown",
   "metadata": {
    "id": "gM72M5u1kGH1"
   },
   "source": [
    "# Params"
   ]
  },
  {
   "cell_type": "code",
   "execution_count": 2,
   "metadata": {},
   "outputs": [
    {
     "name": "stdout",
     "output_type": "stream",
     "text": [
      "Defaulting to user installation because normal site-packages is not writeable\n",
      "Requirement already satisfied: astropy in /home/nlaserna/.local/lib/python3.8/site-packages (4.2.1)\n",
      "Requirement already satisfied: numpy>=1.17 in /home/nlaserna/.local/lib/python3.8/site-packages (from astropy) (1.20.3)\n",
      "Requirement already satisfied: pyerfa in /home/nlaserna/.local/lib/python3.8/site-packages (from astropy) (1.7.3)\n",
      "Note: you may need to restart the kernel to use updated packages.\n"
     ]
    }
   ],
   "source": [
    "pip install astropy\n"
   ]
  },
  {
   "cell_type": "code",
   "execution_count": 3,
   "metadata": {},
   "outputs": [
    {
     "name": "stdout",
     "output_type": "stream",
     "text": [
      "Defaulting to user installation because normal site-packages is not writeable\n",
      "Requirement already satisfied: matplotlib in /home/nlaserna/.local/lib/python3.8/site-packages (3.4.2)\n",
      "Requirement already satisfied: pyparsing>=2.2.1 in /home/nlaserna/.local/lib/python3.8/site-packages (from matplotlib) (2.4.7)\n",
      "Requirement already satisfied: kiwisolver>=1.0.1 in /home/nlaserna/.local/lib/python3.8/site-packages (from matplotlib) (1.3.1)\n",
      "Requirement already satisfied: cycler>=0.10 in /home/nlaserna/.local/lib/python3.8/site-packages (from matplotlib) (0.10.0)\n",
      "Requirement already satisfied: numpy>=1.16 in /home/nlaserna/.local/lib/python3.8/site-packages (from matplotlib) (1.20.3)\n",
      "Requirement already satisfied: python-dateutil>=2.7 in /usr/lib/python3/dist-packages (from matplotlib) (2.7.3)\n",
      "Requirement already satisfied: pillow>=6.2.0 in /usr/lib/python3/dist-packages (from matplotlib) (7.0.0)\n",
      "Requirement already satisfied: six in /usr/lib/python3/dist-packages (from cycler>=0.10->matplotlib) (1.14.0)\n",
      "Note: you may need to restart the kernel to use updated packages.\n"
     ]
    }
   ],
   "source": [
    "pip install matplotlib"
   ]
  },
  {
   "cell_type": "code",
   "execution_count": 4,
   "metadata": {},
   "outputs": [
    {
     "name": "stdout",
     "output_type": "stream",
     "text": [
      "Defaulting to user installation because normal site-packages is not writeable\n",
      "Collecting scipy\n",
      "  Using cached scipy-1.6.3-cp38-cp38-manylinux1_x86_64.whl (27.2 MB)\n",
      "Requirement already satisfied: numpy<1.23.0,>=1.16.5 in /home/nlaserna/.local/lib/python3.8/site-packages (from scipy) (1.20.3)\n",
      "Installing collected packages: scipy\n",
      "Successfully installed scipy-1.6.3\n",
      "Note: you may need to restart the kernel to use updated packages.\n"
     ]
    }
   ],
   "source": [
    "pip install scipy"
   ]
  },
  {
   "cell_type": "markdown",
   "metadata": {
    "id": "8BldXZO7RJmC"
   },
   "source": [
    "**Imports**"
   ]
  },
  {
   "cell_type": "code",
   "execution_count": 93,
   "metadata": {
    "colab": {
     "base_uri": "https://localhost:8080/"
    },
    "id": "7Dckd-USkKpu",
    "outputId": "950ff824-fa35-4c45-f42e-31c896144f52"
   },
   "outputs": [],
   "source": [
    "#Download \n",
    "    #astropy\n",
    "    #scipy\n",
    "    #matplotlib\n",
    "    #google \n",
    "    #google colab\n",
    "\n",
    "# Simulated Images\n",
    "from matplotlib import pyplot as plt\n",
    "import numpy as np\n",
    "import random\n",
    "from astropy.io import fits\n",
    "from astropy.utils.data import download_file\n",
    "import os\n",
    "#Convolution \n",
    "from scipy import ndimage\n",
    "#Drive \n",
    "\n",
    "\n",
    "#from google.colab import drive\n",
    "#drive.mount('/content/drive')"
   ]
  },
  {
   "cell_type": "markdown",
   "metadata": {
    "id": "t7SuKmCyIEhU"
   },
   "source": [
    "**Params Images**"
   ]
  },
  {
   "cell_type": "code",
   "execution_count": 94,
   "metadata": {
    "id": "y7HQbet1IEHr"
   },
   "outputs": [],
   "source": [
    "N = 128 # image size\n",
    "N_PSF = 128 # psf size\n",
    "TYPE_PSF = 'gauss_128x128' "
   ]
  },
  {
   "cell_type": "markdown",
   "metadata": {
    "id": "DIxZU7c7kRHY"
   },
   "source": [
    "**Params Elipses**"
   ]
  },
  {
   "cell_type": "code",
   "execution_count": 95,
   "metadata": {
    "id": "T6-lFCnmkROX"
   },
   "outputs": [],
   "source": [
    "MIN_VALUE_INTENSITY = 0.6 #TODO: comentar\n",
    "MAX_VALUE_INTENSITY = 0.99  #TODO: comentar\n",
    "\n",
    "MIN_A = N*0.05  #5% of image width     #minimum value of the semi-minor axis (a)\n",
    "MAX_A = N*0.15  #15%  of image width   #maximum value of the semi-minor axis (a)\n",
    "STEP_A =  0.01  #step between the maximum and minimum value range of (a)\n",
    "\n",
    "\n",
    "MIN_B = N*0.05  #5% of image length    #minimum value of the semi-major axis (b)\n",
    "MAX_B = N*0.15  #15% of image length   #maximum value of the semi-major axis (b)\n",
    "STEP_B = 0.01   #step between the maximum and minimum value range of (b)\n",
    "\n",
    "MOV_X = N*0.1 #(+/-10%)   #maximum movement in the x-axis (positive and negative) with respect to the center of the image\n",
    "STEP_X = 1 #step between the maximum and minimum value range of the movement in the x-axis\n",
    "\n",
    "\n",
    "MOV_Y = N*0.1 #(+/-10%)   #maximum movement in the y-axis (positive and negative) with respect to the center of the image\n",
    "STEP_Y = 1 #step between the maximum and minimum value range of the movement in the y-axis\n",
    "\n",
    "ANGLE_MIN = -np.pi #TODO:comentar\n",
    "ANGLE_MAX=   np.pi #TODO:comentar\n",
    "STEP_ANGLE = 0.1 #TODO:comentar\n",
    "\n",
    "SIGMA_MIN = 0  #TODO:comentar\n",
    "SIGMA_MAX = 1#TODO:comentar\n",
    "STEP_SIGMA  = 0.1 #TODO:comentar"
   ]
  },
  {
   "cell_type": "markdown",
   "metadata": {
    "id": "HjqRmPedkqI-"
   },
   "source": [
    "**Params Simulated Image**"
   ]
  },
  {
   "cell_type": "code",
   "execution_count": 96,
   "metadata": {
    "id": "tqn1EnWbtSz7"
   },
   "outputs": [],
   "source": [
    "N_ELLIPSES_RANDOM = 100 #Number of ellipses created randomly\n",
    "N_ELLIPSES_OPERATION = round(N_ELLIPSES_RANDOM*0.1) #10% of the list  of ellipses #Number of ellipses to operate to create a simulated image\n",
    "PERC_INFO = 0.04  # 4% #percentage of information in an image, so that it is considered valid"
   ]
  },
  {
   "cell_type": "markdown",
   "metadata": {
    "id": "XvaBsR-yk4tM"
   },
   "source": [
    "**Params Dataset Save**"
   ]
  },
  {
   "cell_type": "code",
   "execution_count": 97,
   "metadata": {
    "id": "BiPK2FXKk4zP"
   },
   "outputs": [],
   "source": [
    "PATH_SAVE = 'dataset/images_'+str(N)+'x'+str(N)+'_'+TYPE_PSF+'/images' #path where the dataset is saved\n",
    "INITIAL_SAVE = 0 #initial index for the names of the generated images \n",
    "FINAL_SAVE = 10000 #final index for the names of the generated images "
   ]
  },
  {
   "cell_type": "markdown",
   "metadata": {
    "id": "AOEPN0e96MUP"
   },
   "source": [
    "**Auxiliary functions**"
   ]
  },
  {
   "cell_type": "markdown",
   "metadata": {
    "id": "P-4xPk636Gtu"
   },
   "source": [
    "Function which makes a directory `path`."
   ]
  },
  {
   "cell_type": "code",
   "execution_count": 98,
   "metadata": {
    "id": "WfjWLfJa6GBL"
   },
   "outputs": [],
   "source": [
    "def make_dir(path):\n",
    "    if not os.path.exists(path):\n",
    "        os.makedirs(path)"
   ]
  },
  {
   "cell_type": "markdown",
   "metadata": {
    "id": "BRY9wHAbL1JW"
   },
   "source": [
    "display fit image from a directory"
   ]
  },
  {
   "cell_type": "code",
   "execution_count": 99,
   "metadata": {
    "id": "qHdvZsfEL0qj"
   },
   "outputs": [],
   "source": [
    "def display_fits(path):\n",
    "  hdul=fits.open(path)\n",
    "  hdr = hdul[0].header\n",
    "  size = hdr[3]\n",
    "  data = hdul[0].data.astype(np.float32)\n",
    "  image = np.reshape(data,[size,size])\n",
    "  plt.imshow(image)"
   ]
  },
  {
   "cell_type": "markdown",
   "metadata": {
    "id": "dbh9pMhkL6Ue"
   },
   "source": [
    "read fit image dataset from a directory\n",
    "\n",
    "\n",
    "*   `path`: path where the images are\n",
    "*   `type_image`: *image* (simulated images) or *conv* (dirty images)\n",
    "*   `size_image`: TODO: comentar\n",
    "*   `initial`: initial index for the names of the saved images\n",
    "*   `final`: final index for the names of the saved images\n"
   ]
  },
  {
   "cell_type": "code",
   "execution_count": 100,
   "metadata": {
    "id": "BC-F-U-sL7I0"
   },
   "outputs": [],
   "source": [
    "def get_dataset(path,type_image,size_image,initial,final):\n",
    "  images = []\n",
    "  for i in range(initial,final):\n",
    "    path_file = path+'/'+type_image+'_'+str(size_image)+'x'+str(size_image)+'_'+str(i)+'.fits'\n",
    "    hdul=fits.open(path_file)\n",
    "    data = hdul[0].data.astype(np.float32)\n",
    "    image = np.reshape(data,[size_image,size_image])\n",
    "    images.append(image)\n",
    "    #print(i)\n",
    "  return images"
   ]
  },
  {
   "cell_type": "markdown",
   "metadata": {
    "id": "D1rGlhu6mrwR"
   },
   "source": [
    "# Simuted Images\n",
    "\n"
   ]
  },
  {
   "cell_type": "markdown",
   "metadata": {
    "id": "uaPMVJucrH_7"
   },
   "source": [
    "**Create Ellipse**"
   ]
  },
  {
   "cell_type": "markdown",
   "metadata": {
    "id": "RYuSAJLmr5PA"
   },
   "source": [
    "\n",
    "* `n`: image size\n",
    "* `a`: exe semi-minor axis\n",
    "* `b`: semi-major axis\n",
    "* `min`: TODO: Comentar\n",
    "* `max`: TODO: Comentar\n",
    "* `mov_x`: movement in the x-axis with respect to the center of the image\n",
    "* `mov_y`: movement in the y-axis with respect to the center of the image\n",
    "* `angle`: angle around\n",
    "* `sigma`: TODO: Comentar\n",
    "\n",
    "\n",
    "\n",
    " \n",
    "\n",
    "\n",
    "\n",
    "\n"
   ]
  },
  {
   "cell_type": "code",
   "execution_count": 101,
   "metadata": {
    "id": "tZTrHe1ERgkZ"
   },
   "outputs": [],
   "source": [
    "def create_elipse(n,a,b,min,max,mov_x,mov_y,angle,sigma):\n",
    "  X=np.reshape(np.arange(0,n),(1,n))\n",
    "  Y=np.reshape(np.arange(0,n), (n,1)) \n",
    "  X=X-n/2 + mov_x\n",
    "  Y=Y-n/2 + mov_y\n",
    "  c=np.cos(angle)\n",
    "  s=np.sin(angle)\n",
    "  XX=X*c + Y*s # para no sobre-escribir X\n",
    "  YY=X*s - Y*c\n",
    "  X=XX\n",
    "  Y=YY\n",
    "  Z=np.sqrt(((X/a)**2+((Y/b)**2)))\n",
    "  Z= np.exp(-Z**2/2/sigma**2)\n",
    "  ZZ =np.copy(Z)\n",
    "  Z[ZZ<min]=0\n",
    "  Z[ZZ>max]=0\n",
    "  return Z"
   ]
  },
  {
   "cell_type": "markdown",
   "metadata": {
    "id": "CjkvE9JlrORF"
   },
   "source": [
    "Example"
   ]
  },
  {
   "cell_type": "code",
   "execution_count": 102,
   "metadata": {
    "colab": {
     "base_uri": "https://localhost:8080/",
     "height": 286
    },
    "id": "1M74pRxVqjwJ",
    "outputId": "8c2a6664-155d-4087-962b-08e15f2ea045"
   },
   "outputs": [
    {
     "data": {
      "text/plain": [
       "<matplotlib.image.AxesImage at 0x7f4035878400>"
      ]
     },
     "execution_count": 102,
     "metadata": {},
     "output_type": "execute_result"
    },
    {
     "data": {
      "image/png": "[encoded data removed]",
      "text/plain": [
       "<Figure size 432x288 with 1 Axes>"
      ]
     },
     "metadata": {
      "needs_background": "light"
     },
     "output_type": "display_data"
    }
   ],
   "source": [
    "n = 256 # image 256x256\n",
    "a = 20 # eje semi-minor\n",
    "b = 40 # eje semi-major\n",
    "min= 0.1  # TODO: comentar\n",
    "max = 0.9 # TODO: comentar\n",
    "mov_x = n*0.05 #5% to the right of the center of the image\n",
    "mov_y = n*0.05 #5% up from the center of the image \n",
    "angle = 2*np.pi*(1/16.0) # (45º angle around)\n",
    "sigma = 0.5 # TODO: comentar\n",
    "\n",
    "elipse = create_elipse(n,a,b,min,max,mov_x,mov_y,angle,sigma)\n",
    "plt.imshow(elipse)"
   ]
  },
  {
   "cell_type": "markdown",
   "metadata": {
    "id": "82WHJ1T6moG1"
   },
   "source": [
    "**Random Ellipses**"
   ]
  },
  {
   "cell_type": "markdown",
   "metadata": {
    "id": "PrU56V8VlO52"
   },
   "source": [
    "For each of the ellipse parameters we generate a list of all the values ​​that they can take.\n",
    "\n",
    "*   `a_list`: list of all possible values ​​that of semi-minor axis `a`\n",
    "*   `b_list`: list of all possible values of semi-major axis  `b` \n",
    "*   `mov_x_list`: TODO: Esto no es asi lista de desplazamientos con respecto al centro de la elipse en el plano x \n",
    "*   `mov_y_list`:   TODO: Esto no es asi  lista de desplazamientos con respecto al centro de la elipse en el plano y \n",
    "*   `angle_list`:   TODO: comentar\n",
    "*   `sigma_list`:  TODO: comentar\n",
    "\n",
    "\n",
    "\n",
    "\n"
   ]
  },
  {
   "cell_type": "code",
   "execution_count": 103,
   "metadata": {
    "id": "Kci6VrrrRrIA"
   },
   "outputs": [],
   "source": [
    "a_list = np.arange(MIN_A,MAX_A,STEP_A)\n",
    "b_list = np.arange(MIN_B,MAX_B,STEP_B)\n",
    "mov_x_list = np.arange(-MOV_X,MOV_X,STEP_X)\n",
    "mov_y_list = np.arange(-MOV_Y,MOV_Y,STEP_Y)\n",
    "angle_list=  np.arange(ANGLE_MIN,ANGLE_MAX,STEP_ANGLE)\n",
    "sigma_list = np.arange(SIGMA_MIN,SIGMA_MAX,STEP_ANGLE)\n"
   ]
  },
  {
   "cell_type": "markdown",
   "metadata": {
    "id": "VI0lUQbxEeMe"
   },
   "source": [
    "now, we generate a random value of each parameter of an ellipse\n",
    "\n"
   ]
  },
  {
   "cell_type": "code",
   "execution_count": 104,
   "metadata": {
    "id": "IXpDJIDxR0AA"
   },
   "outputs": [],
   "source": [
    "def random_params(a_list,b_list,mov_x_list,mav_y_list,angle_list,sigma_list):\n",
    "  a  = random.choice(a_list)\n",
    "  b  = random.choice(b_list)\n",
    "  x = random.choice(mov_y_list)\n",
    "  y = random.choice(mov_y_list)\n",
    "  an = random.choice(angle_list) \n",
    "  sig = random.choice(sigma_list)\n",
    "  return [a,b,x,y,an,sig]"
   ]
  },
  {
   "cell_type": "markdown",
   "metadata": {
    "id": "OCxf9sFMEdkU"
   },
   "source": [
    "Example"
   ]
  },
  {
   "cell_type": "code",
   "execution_count": 105,
   "metadata": {
    "colab": {
     "base_uri": "https://localhost:8080/",
     "height": 337
    },
    "id": "NjIw_ABWmnUG",
    "outputId": "d0b93848-8b0b-4e17-b83b-9fb6693d6906"
   },
   "outputs": [
    {
     "name": "stderr",
     "output_type": "stream",
     "text": [
      "<ipython-input-101-9d504985cb07>:13: RuntimeWarning: divide by zero encountered in true_divide\n",
      "  Z= np.exp(-Z**2/2/sigma**2)\n"
     ]
    },
    {
     "data": {
      "text/plain": [
       "<matplotlib.image.AxesImage at 0x7f4036b1c700>"
      ]
     },
     "execution_count": 105,
     "metadata": {},
     "output_type": "execute_result"
    },
    {
     "data": {
      "text/plain": [
       "<Figure size 432x288 with 0 Axes>"
      ]
     },
     "metadata": {},
     "output_type": "display_data"
    },
    {
     "data": {
      "image/png": "[encoded data removed]",
      "text/plain": [
       "<Figure size 432x288 with 4 Axes>"
      ]
     },
     "metadata": {
      "needs_background": "light"
     },
     "output_type": "display_data"
    }
   ],
   "source": [
    "params_1 = random_params(a_list,b_list,mov_x_list,mov_y_list,angle_list,sigma_list)\n",
    "params_2 = random_params(a_list,b_list,mov_x_list,mov_y_list,angle_list,sigma_list)\n",
    "params_3 = random_params(a_list,b_list,mov_x_list,mov_y_list,angle_list,sigma_list)\n",
    "params_4 = random_params(a_list,b_list,mov_x_list,mov_y_list,angle_list,sigma_list)\n",
    "\n",
    "ellipse_1 = create_elipse(N,params_1[0],params_1[1],MIN_VALUE_INTENSITY,MAX_VALUE_INTENSITY,params_1[2],params_1[3],params_1[4],params_1[5])\n",
    "ellipse_2 = create_elipse(N,params_2[0],params_2[1],MIN_VALUE_INTENSITY,MAX_VALUE_INTENSITY,params_2[2],params_2[3],params_2[4],params_2[5])\n",
    "ellipse_3 = create_elipse(N,params_3[0],params_3[1],MIN_VALUE_INTENSITY,MAX_VALUE_INTENSITY,params_3[2],params_3[3],params_3[4],params_3[5])\n",
    "ellipse_4 = create_elipse(N,params_4[0],params_4[1],MIN_VALUE_INTENSITY,MAX_VALUE_INTENSITY,params_4[2],params_4[3],params_4[4],params_4[5])\n",
    "\n",
    "plt.figure()\n",
    "f, axarr=plt.subplots(2,2)\n",
    "axarr[0,0].imshow(ellipse_1)\n",
    "axarr[0,1].imshow(ellipse_2)\n",
    "axarr[1,0].imshow(ellipse_3)\n",
    "axarr[1,1].imshow(ellipse_4)\n"
   ]
  },
  {
   "cell_type": "markdown",
   "metadata": {
    "id": "LwLQ0Dkwv8Qj"
   },
   "source": [
    "**List of random Ellipses**\n",
    "\n"
   ]
  },
  {
   "cell_type": "markdown",
   "metadata": {
    "id": "SzMX_omIKOBq"
   },
   "source": [
    "We generate a list of random ellipses, of size `N_RANDOM_ELIPSES`\n",
    "\n",
    "\n"
   ]
  },
  {
   "cell_type": "code",
   "execution_count": 106,
   "metadata": {
    "colab": {
     "base_uri": "https://localhost:8080/"
    },
    "id": "7x4RhSaGwarR",
    "outputId": "14246c5e-8eb5-41c8-f533-2404e54d5ca1"
   },
   "outputs": [
    {
     "name": "stderr",
     "output_type": "stream",
     "text": [
      "<ipython-input-101-9d504985cb07>:13: RuntimeWarning: divide by zero encountered in true_divide\n",
      "  Z= np.exp(-Z**2/2/sigma**2)\n"
     ]
    }
   ],
   "source": [
    "def create_ellipses(n_ellipses,a_list,b_list,mov_x_list,mov_y_list,angle_list,sigma_list):\n",
    "  elipses = []\n",
    "  for i in range(0,n_ellipses):\n",
    "    params = random_params(a_list,b_list,mov_x_list,mov_y_list,angle_list,sigma_list)\n",
    "    elipse= create_elipse(N,params[0],params[1],MIN_VALUE_INTENSITY,MAX_VALUE_INTENSITY,params[2],params[3],params[4],params[5])\n",
    "    elipses.append(elipse)\n",
    "  return elipses\n",
    "  \n",
    "list_elipses = create_ellipses(N_ELLIPSES_RANDOM,a_list,b_list,mov_x_list,mov_y_list,angle_list,sigma_list)"
   ]
  },
  {
   "cell_type": "markdown",
   "metadata": {
    "id": "Exd76x5P23SQ"
   },
   "source": [
    "now we visualize 4 images of the generated ellipse list"
   ]
  },
  {
   "cell_type": "code",
   "execution_count": 107,
   "metadata": {
    "colab": {
     "base_uri": "https://localhost:8080/",
     "height": 303
    },
    "id": "lCB2QqZzyN3v",
    "outputId": "a616f50a-ab76-4ddb-c966-cf6ac1e4d7f4"
   },
   "outputs": [
    {
     "data": {
      "text/plain": [
       "<matplotlib.image.AxesImage at 0x7f4036b47670>"
      ]
     },
     "execution_count": 107,
     "metadata": {},
     "output_type": "execute_result"
    },
    {
     "data": {
      "text/plain": [
       "<Figure size 432x288 with 0 Axes>"
      ]
     },
     "metadata": {},
     "output_type": "display_data"
    },
    {
     "data": {
      "image/png": "[encoded data removed]",
      "text/plain": [
       "<Figure size 432x288 with 4 Axes>"
      ]
     },
     "metadata": {
      "needs_background": "light"
     },
     "output_type": "display_data"
    }
   ],
   "source": [
    "list_random_elipses = random.sample(list_elipses, 4)\n",
    "plt.figure()\n",
    "f, axarr=plt.subplots(2,2)\n",
    "axarr[0,0].imshow(list_random_elipses[0])\n",
    "axarr[0,1].imshow(list_random_elipses[1])\n",
    "axarr[1,0].imshow(list_random_elipses[2])\n",
    "axarr[1,1].imshow(list_random_elipses[3])\n"
   ]
  },
  {
   "cell_type": "markdown",
   "metadata": {
    "id": "kTRxQmxLusXu"
   },
   "source": [
    "**Image information percentage**"
   ]
  },
  {
   "cell_type": "markdown",
   "metadata": {
    "id": "6tiPhMTl6Uqc"
   },
   "source": [
    "Finally, to simulate the interferometric image, we will make a combination of ellipses through mathematical operations."
   ]
  },
  {
   "cell_type": "markdown",
   "metadata": {
    "id": "3JfFg80L6X7d"
   },
   "source": [
    "To avoid that the generated image is empty or contains very little information, we created a function that allows us to calculate the percentage of information"
   ]
  },
  {
   "cell_type": "code",
   "execution_count": 108,
   "metadata": {
    "id": "jQeA5Y1drapq"
   },
   "outputs": [],
   "source": [
    "def get_perc_info(image):\n",
    "   n = len(image)\n",
    "   c = np.sum(image>0)  \n",
    "   perc=(c)/(n*n)\n",
    "   return perc"
   ]
  },
  {
   "cell_type": "markdown",
   "metadata": {
    "id": "-MwGtwJv6txD"
   },
   "source": [
    "we also create a function to normalize the created image"
   ]
  },
  {
   "cell_type": "code",
   "execution_count": 109,
   "metadata": {
    "id": "gByMpS3d6urL"
   },
   "outputs": [],
   "source": [
    "def normalize(image):\n",
    "  image = image - np.min(image)\n",
    "  image = image/np.max(image)\n",
    "  return image"
   ]
  },
  {
   "cell_type": "markdown",
   "metadata": {
    "id": "zbzC_Au87XHe"
   },
   "source": [
    "\n",
    "\n",
    "*   `list_elipses`: list containing all possible ellipses to combine\n",
    "*   `size_subsets`: number of ellipses to combine\n",
    "\n",
    "Using these parameters we generate a random subset of `list_elipses` called` list_random_elipses`. We obtain the first element of this subset and perform a mathematical operation (obtained randomly from the list of `operators`) with the next ellipse in the list, then the generated figure is operated with the next element in the list of subsets.\n"
   ]
  },
  {
   "cell_type": "code",
   "execution_count": 110,
   "metadata": {
    "id": "BnbAF9J8tFL8"
   },
   "outputs": [],
   "source": [
    "def random_figure(list_elipses,size_subset):\n",
    "  size = len(list_elipses)\n",
    "  if (size_subset > size):\n",
    "    size_subset = size\n",
    "  operators = ['*','+','-']\n",
    "  list_random_elipses = random.sample(list_elipses, size_subset)\n",
    "  final_figure = list_random_elipses[random.randrange(0,size_subset-1,1)]\n",
    "  for elipse in list_random_elipses:\n",
    "    operator =random.choice(operators)\n",
    "    if (operator == '+'):\n",
    "      final_figure = elipse + final_figure\n",
    "    elif (operator == '*'):\n",
    "      final_figure = elipse * final_figure\n",
    "    elif (operator == '-'):\n",
    "      final_figure = elipse - final_figure\n",
    "  final_figure_copy  = np.copy(final_figure)\n",
    "  final_figure = normalize(final_figure)\n",
    "  final_figure[final_figure_copy ==0]=0\n",
    "  if (get_perc_info(final_figure) > PERC_INFO):\n",
    "    #ZZ =np.copy(final_figure)\n",
    "    #final_figure[ZZ<MIN_VALUE_INTENSITY]=0\n",
    "    #final_figure[ZZ>MAX_VALUE_INTENSITY]=0\n",
    "    return final_figure\n",
    "  else:\n",
    "    return random_figure(list_elipses,size)"
   ]
  },
  {
   "cell_type": "markdown",
   "metadata": {
    "id": "BXyKP21GAtuF"
   },
   "source": [
    "Example"
   ]
  },
  {
   "cell_type": "code",
   "execution_count": 111,
   "metadata": {
    "colab": {
     "base_uri": "https://localhost:8080/",
     "height": 317
    },
    "id": "HskUzvEcApw0",
    "outputId": "cbf9db8f-fd26-4e74-af7c-cf7310febb98"
   },
   "outputs": [
    {
     "name": "stderr",
     "output_type": "stream",
     "text": [
      "<ipython-input-109-dc5f07edffcd>:3: RuntimeWarning: invalid value encountered in true_divide\n",
      "  image = image/np.max(image)\n"
     ]
    },
    {
     "data": {
      "text/plain": [
       "<matplotlib.image.AxesImage at 0x7f4035a314f0>"
      ]
     },
     "execution_count": 111,
     "metadata": {},
     "output_type": "execute_result"
    },
    {
     "data": {
      "image/png": "[encoded data removed]",
      "text/plain": [
       "<Figure size 432x288 with 1 Axes>"
      ]
     },
     "metadata": {
      "needs_background": "light"
     },
     "output_type": "display_data"
    }
   ],
   "source": [
    "figure = random_figure(list_elipses,N_ELLIPSES_OPERATION)\n",
    "plt.imshow(figure)"
   ]
  },
  {
   "cell_type": "markdown",
   "metadata": {
    "id": "ibpDBo1j8rx_"
   },
   "source": [
    "**CREATE AND SAVE DATASET SIMULATED IMAGES IN FITS FORMAT**"
   ]
  },
  {
   "cell_type": "markdown",
   "metadata": {
    "id": "h1vuHv86Elbd"
   },
   "source": [
    "*   `initial`: initial index for the names of the generated images\n",
    "*   `final`: final index for the names of the generated images\n",
    "*   `list_elipses`: list of ellipses\n",
    "*   `path`: path where the images are saved\n",
    "\n"
   ]
  },
  {
   "cell_type": "code",
   "execution_count": 112,
   "metadata": {
    "id": "dDYZNwQjeL49"
   },
   "outputs": [],
   "source": [
    "def dataset_figures(initial,final,list_elipses,path):\n",
    "  dataset = []\n",
    "  size_ellipse = len(list_elipses[0])\n",
    "  for index in range(initial,final):\n",
    "    figure = random_figure(list_elipses,N_ELLIPSES_OPERATION)\n",
    "    hdu_image =fits.PrimaryHDU(figure)\n",
    "    hdu_image.writeto(path+'/image_'+str(size_ellipse)+'x'+str(size_ellipse)+'_'+str(index)+'.fits',clobber=True)\n",
    "    dataset.append(figure)\n",
    "  return dataset"
   ]
  },
  {
   "cell_type": "markdown",
   "metadata": {
    "id": "5A4w6M_PHgkt"
   },
   "source": [
    "Example"
   ]
  },
  {
   "cell_type": "code",
   "execution_count": 113,
   "metadata": {
    "colab": {
     "base_uri": "https://localhost:8080/",
     "height": 355
    },
    "id": "VhNH4ReEaXqt",
    "outputId": "7d6e5246-120f-4cfb-f4e8-fc3366e57628"
   },
   "outputs": [
    {
     "name": "stderr",
     "output_type": "stream",
     "text": [
      "<ipython-input-109-dc5f07edffcd>:3: RuntimeWarning: invalid value encountered in true_divide\n",
      "  image = image/np.max(image)\n",
      "WARNING: AstropyDeprecationWarning: \"clobber\" was deprecated in version 2.0 and will be removed in a future version. Use argument \"overwrite\" instead. [warnings]\n"
     ]
    },
    {
     "data": {
      "text/plain": [
       "<matplotlib.image.AxesImage at 0x7f4036e50df0>"
      ]
     },
     "execution_count": 113,
     "metadata": {},
     "output_type": "execute_result"
    },
    {
     "data": {
      "text/plain": [
       "<Figure size 432x288 with 0 Axes>"
      ]
     },
     "metadata": {},
     "output_type": "display_data"
    },
    {
     "data": {
      "image/png": "[encoded data removed]",
      "text/plain": [
       "<Figure size 432x288 with 4 Axes>"
      ]
     },
     "metadata": {
      "needs_background": "light"
     },
     "output_type": "display_data"
    }
   ],
   "source": [
    "make_dir(PATH_SAVE)\n",
    "simulted_images = dataset_figures(INITIAL_SAVE,FINAL_SAVE,list_elipses,PATH_SAVE)\n",
    "list_random_dataset = random.sample(simulted_images, 4)\n",
    "plt.figure()\n",
    "f, axarr=plt.subplots(2,2) \n",
    "axarr[0,0].imshow(list_random_dataset[0])\n",
    "axarr[0,1].imshow(list_random_dataset[1])\n",
    "axarr[1,0].imshow(list_random_dataset[2])\n",
    "axarr[1,1].imshow(list_random_dataset[3])\n"
   ]
  },
  {
   "cell_type": "code",
   "execution_count": 114,
   "metadata": {},
   "outputs": [
    {
     "name": "stdout",
     "output_type": "stream",
     "text": [
      "finalized\n"
     ]
    }
   ],
   "source": [
    "print(\"finalized\")"
   ]
  },
  {
   "cell_type": "markdown",
   "metadata": {
    "id": "QTwt6hTVLqYg"
   },
   "source": [
    "# Read Simuted Images"
   ]
  },
  {
   "cell_type": "code",
   "execution_count": 134,
   "metadata": {
    "colab": {
     "base_uri": "https://localhost:8080/"
    },
    "id": "nJlfIFw8_nPJ",
    "outputId": "fb770dba-f172-463a-eb0c-3f506f20bfb8"
   },
   "outputs": [],
   "source": [
    "#simulted_images = get_dataset(PATH_SAVE,'image',N,INITIAL_SAVE,FINAL_SAVE)\n",
    "#simulated_image_random  = random.choice(simulted_images)\n",
    "#plt.imshow(simulated_image_random)"
   ]
  },
  {
   "cell_type": "code",
   "execution_count": 116,
   "metadata": {},
   "outputs": [
    {
     "name": "stdout",
     "output_type": "stream",
     "text": [
      "finalized\n"
     ]
    }
   ],
   "source": [
    "print(\"finalized\")"
   ]
  },
  {
   "cell_type": "markdown",
   "metadata": {
    "id": "Fiui3c6ujXxA"
   },
   "source": [
    "# PSF "
   ]
  },
  {
   "cell_type": "code",
   "execution_count": 117,
   "metadata": {
    "id": "jj1TqjrIp9wr"
   },
   "outputs": [],
   "source": [
    "def info_fit_path(path):\n",
    "   image_link = download_file(path, cache=True )\n",
    "   hdu_list = fits.open(image_link)\n",
    "   hdu_list.info()"
   ]
  },
  {
   "cell_type": "code",
   "execution_count": 118,
   "metadata": {
    "id": "nJhgrVV9pMqa"
   },
   "outputs": [],
   "source": [
    "def getdata_fit_path(path):\n",
    "  image_link = download_file(path, cache=True )\n",
    "  image = fits.getdata(image_link).astype(np.float32)\n",
    "  image = np.reshape(image,[image.shape[2],image.shape[3]])\n",
    "  return image"
   ]
  },
  {
   "cell_type": "markdown",
   "metadata": {
    "id": "xMtdCyBkm2PZ"
   },
   "source": [
    "**PSF real 128x128**"
   ]
  },
  {
   "cell_type": "code",
   "execution_count": 119,
   "metadata": {
    "colab": {
     "base_uri": "https://localhost:8080/"
    },
    "id": "2DAgC0FIpqxr",
    "outputId": "2e891366-08ec-44e0-d49c-2f0f03c021cd"
   },
   "outputs": [
    {
     "name": "stdout",
     "output_type": "stream",
     "text": [
      "Filename: /home/nlaserna/.astropy/cache/download/url/423d062de61cc8a03c5869b3ab47e189/contents\n",
      "No.    Name      Ver    Type      Cards   Dimensions   Format\n",
      "  0  PRIMARY       1 PrimaryHDU      77   (128, 128, 1, 1)   float32   \n"
     ]
    },
    {
     "data": {
      "image/png": "[encoded data removed]",
      "text/plain": [
       "<Figure size 432x288 with 1 Axes>"
      ]
     },
     "metadata": {
      "needs_background": "light"
     },
     "output_type": "display_data"
    }
   ],
   "source": [
    "url_128x128 = 'https://github.com/nicolasalarconl/InterferometryDeepLearning/blob/main/4_hd142_128x128_08.psf.fits?raw=true'\n",
    "psf_128x128 = getdata_fit_path(url_128x128)\n",
    "plt.imshow(psf_128x128)\n",
    "info_fit_path(url_128x128)"
   ]
  },
  {
   "cell_type": "markdown",
   "metadata": {
    "id": "9yZLLj3vm5gy"
   },
   "source": [
    "**PSF Gaussian**"
   ]
  },
  {
   "cell_type": "code",
   "execution_count": 120,
   "metadata": {
    "id": "5j0qGnhbm4uk"
   },
   "outputs": [],
   "source": [
    "def gauss(tamX,tamY,div):\n",
    "  x, y = np.meshgrid(np.linspace(-1,1,tamX), np.linspace(-1,1,tamY))\n",
    "  d = np.sqrt(x*x+y*y)\n",
    "  sigma, mu = 1/div, 0.0\n",
    "  gauss = np.exp(-( (d-mu)**2 / ( 2.0 * sigma**2 ) ) )\n",
    "  return gauss\n"
   ]
  },
  {
   "cell_type": "markdown",
   "metadata": {
    "id": "AuIPZGxwuMec"
   },
   "source": [
    "Example PSF Gauss 128x128"
   ]
  },
  {
   "cell_type": "code",
   "execution_count": 121,
   "metadata": {
    "colab": {
     "base_uri": "https://localhost:8080/"
    },
    "id": "o4qzkIjCuL3d",
    "outputId": "a42e904a-f0af-418d-bdf8-db2f2cde2f5a"
   },
   "outputs": [
    {
     "data": {
      "text/plain": [
       "<matplotlib.image.AxesImage at 0x7f40359230d0>"
      ]
     },
     "execution_count": 121,
     "metadata": {},
     "output_type": "execute_result"
    },
    {
     "data": {
      "image/png": "[encoded data removed]",
      "text/plain": [
       "<Figure size 432x288 with 1 Axes>"
      ]
     },
     "metadata": {
      "needs_background": "light"
     },
     "output_type": "display_data"
    }
   ],
   "source": [
    "psf_gauss_128x128 =gauss(128,128,64)\n",
    "plt.imshow(psf_gauss_128x128)"
   ]
  },
  {
   "cell_type": "markdown",
   "metadata": {
    "id": "otOeCk1pBM0h"
   },
   "source": [
    "Example PSF Gauss 28x28"
   ]
  },
  {
   "cell_type": "code",
   "execution_count": 122,
   "metadata": {
    "colab": {
     "base_uri": "https://localhost:8080/"
    },
    "id": "Z30zqPE4BM50",
    "outputId": "bc1e5a27-3e8c-494d-dcdb-3038d728d54c"
   },
   "outputs": [
    {
     "data": {
      "text/plain": [
       "<matplotlib.image.AxesImage at 0x7f40354568e0>"
      ]
     },
     "execution_count": 122,
     "metadata": {},
     "output_type": "execute_result"
    },
    {
     "data": {
      "image/png": "[encoded data removed]",
      "text/plain": [
       "<Figure size 432x288 with 1 Axes>"
      ]
     },
     "metadata": {
      "needs_background": "light"
     },
     "output_type": "display_data"
    }
   ],
   "source": [
    "psf_gauss_28x28 =gauss(28,28,14)\n",
    "plt.imshow(psf_gauss_28x28)"
   ]
  },
  {
   "cell_type": "markdown",
   "metadata": {
    "id": "EMQvtJnEjezI"
   },
   "source": [
    "# Dirty Images"
   ]
  },
  {
   "cell_type": "markdown",
   "metadata": {
    "id": "NBhb-HScUtVa"
   },
   "source": [
    "**Params**"
   ]
  },
  {
   "cell_type": "code",
   "execution_count": 123,
   "metadata": {
    "id": "wsGryJ73jhYt"
   },
   "outputs": [],
   "source": [
    "#DATASET_SIMULTED_IMAGES = get_dataset(PATH_SAVE,'image',N,INITIAL_SAVE,FINAL_SAVE)\n",
    "DATASET_SIMULTED_IMAGES = simulted_images\n",
    "PSF = psf_gauss_128x128"
   ]
  },
  {
   "cell_type": "markdown",
   "metadata": {
    "id": "V-4YiEh7wYI-"
   },
   "source": [
    "**Auxiliary functions**"
   ]
  },
  {
   "cell_type": "code",
   "execution_count": 124,
   "metadata": {
    "id": "llCrnw3jwYQt"
   },
   "outputs": [],
   "source": [
    "### display two images\n",
    "def display_two(a, b, title1 = \"Original\", title2 = \"Edited\"):\n",
    "    plt.subplot(121), plt.imshow(a), plt.title(title1)\n",
    "    plt.xticks([]), plt.yticks([])\n",
    "    plt.subplot(122), plt.imshow(b), plt.title(title2)\n",
    "    plt.xticks([]), plt.yticks([])\n",
    "    plt.show()\n",
    "\n",
    "# Display one image\n",
    "def display(a, title1 = \"Original\"):\n",
    "    plt.imshow (a), plt.title(title1)\n",
    "    plt.show()"
   ]
  },
  {
   "cell_type": "markdown",
   "metadata": {
    "id": "5gvhc75CUsvr"
   },
   "source": [
    "**Convolution: PSF 128x128 cell 0.8 - Simulated Image**\n"
   ]
  },
  {
   "cell_type": "code",
   "execution_count": 125,
   "metadata": {
    "colab": {
     "base_uri": "https://localhost:8080/",
     "height": 467
    },
    "id": "7TZ0rbCaP9XS",
    "outputId": "6b7a9af1-3e0b-4a3a-932f-7a7528046818"
   },
   "outputs": [
    {
     "data": {
      "image/png": "[encoded data removed]",
      "text/plain": [
       "<Figure size 432x288 with 2 Axes>"
      ]
     },
     "metadata": {},
     "output_type": "display_data"
    },
    {
     "data": {
      "image/png": "[encoded data removed]",
      "text/plain": [
       "<Figure size 432x288 with 1 Axes>"
      ]
     },
     "metadata": {
      "needs_background": "light"
     },
     "output_type": "display_data"
    }
   ],
   "source": [
    "simulated_image_random  = random.choice(simulted_images)\n",
    "display_two(psf_gauss_128x128,simulated_image_random,title1=\"psf 128x128 cell 0.8\",title2=\"simulated image\")\n",
    "conv_128x128_08 = ndimage.convolve(simulated_image_random,psf_gauss_128x128,mode='constant', cval=0.0)\n",
    "display(conv_128x128_08,\"dirty image\")"
   ]
  },
  {
   "cell_type": "markdown",
   "metadata": {
    "id": "dmMLRHPkUsC3"
   },
   "source": [
    "**Convolution: PSF 128x128 - 3 Random Simulated Image**"
   ]
  },
  {
   "cell_type": "code",
   "execution_count": 126,
   "metadata": {
    "colab": {
     "base_uri": "https://localhost:8080/",
     "height": 304
    },
    "id": "Yf3CXzjGOcZg",
    "outputId": "18d4fdda-2f0e-46a2-ea8c-13545bca87f4"
   },
   "outputs": [
    {
     "data": {
      "text/plain": [
       "<matplotlib.image.AxesImage at 0x7f4036553460>"
      ]
     },
     "execution_count": 126,
     "metadata": {},
     "output_type": "execute_result"
    },
    {
     "data": {
      "text/plain": [
       "<Figure size 432x288 with 0 Axes>"
      ]
     },
     "metadata": {},
     "output_type": "display_data"
    },
    {
     "data": {
      "image/png": "[encoded data removed]",
      "text/plain": [
       "<Figure size 432x288 with 9 Axes>"
      ]
     },
     "metadata": {
      "needs_background": "light"
     },
     "output_type": "display_data"
    }
   ],
   "source": [
    "simulated_images_random =  random.sample(simulted_images, 3)\n",
    "random_1_conv_128x128 = ndimage.convolve(simulated_images_random[0],psf_128x128,mode='constant', cval=0.0)\n",
    "random_2_conv_128x128 = ndimage.convolve(simulated_images_random[1],psf_128x128,mode='constant', cval=0.0)\n",
    "random_3_conv_128x128 = ndimage.convolve(simulated_images_random[2],psf_128x128,mode='constant', cval=0.0)\n",
    "\n",
    "plt.figure()\n",
    "f, axarr=plt.subplots(3,3)\n",
    "axarr[0,0].imshow(simulated_images_random[0])\n",
    "axarr[0,1].imshow(psf_gauss_128x128)\n",
    "axarr[0,2].imshow(random_1_conv_128x128)\n",
    "axarr[1,0].imshow(simulated_images_random[1])\n",
    "axarr[1,1].imshow(psf_gauss_128x128)\n",
    "axarr[1,2].imshow(random_2_conv_128x128)\n",
    "axarr[2,0].imshow(simulated_images_random[2])\n",
    "axarr[2,1].imshow(psf_gauss_128x128)\n",
    "axarr[2,2].imshow(random_3_conv_128x128)"
   ]
  },
  {
   "cell_type": "markdown",
   "metadata": {
    "id": "eClP2F4YUHQN"
   },
   "source": [
    "**Convolution: PSF Gaus 128x128- Simulated Image**"
   ]
  },
  {
   "cell_type": "code",
   "execution_count": 127,
   "metadata": {
    "colab": {
     "base_uri": "https://localhost:8080/",
     "height": 467
    },
    "id": "yje9U5UnUHWe",
    "outputId": "7921638f-e36e-47aa-f492-267e088a715c"
   },
   "outputs": [
    {
     "data": {
      "image/png": "[encoded data removed]",
      "text/plain": [
       "<Figure size 432x288 with 2 Axes>"
      ]
     },
     "metadata": {},
     "output_type": "display_data"
    },
    {
     "data": {
      "image/png": "[encoded data removed]",
      "text/plain": [
       "<Figure size 432x288 with 1 Axes>"
      ]
     },
     "metadata": {
      "needs_background": "light"
     },
     "output_type": "display_data"
    }
   ],
   "source": [
    "display_two(psf_gauss_128x128,simulated_image_random,title1=\"psf gauss\",title2=\"simulated image\")\n",
    "conv_gauss = ndimage.convolve(simulated_image_random,psf_gauss_128x128,mode='constant', cval=0.0)\n",
    "display(conv_gauss,\"dirty image\")"
   ]
  },
  {
   "cell_type": "markdown",
   "metadata": {
    "id": "tgwDBrxpGS7U"
   },
   "source": [
    "**Convolution: PSF Gaus 28x28- Simulated Image**"
   ]
  },
  {
   "cell_type": "code",
   "execution_count": 128,
   "metadata": {
    "colab": {
     "base_uri": "https://localhost:8080/",
     "height": 467
    },
    "id": "X3xa84tLGTAx",
    "outputId": "0f4b7b88-836a-4b64-8c10-d44116638b80"
   },
   "outputs": [
    {
     "data": {
      "image/png": "[encoded data removed]",
      "text/plain": [
       "<Figure size 432x288 with 2 Axes>"
      ]
     },
     "metadata": {},
     "output_type": "display_data"
    },
    {
     "data": {
      "image/png": "[encoded data removed]",
      "text/plain": [
       "<Figure size 432x288 with 1 Axes>"
      ]
     },
     "metadata": {
      "needs_background": "light"
     },
     "output_type": "display_data"
    }
   ],
   "source": [
    "display_two(psf_gauss_28x28,simulated_image_random,title1=\"psf gauss\",title2=\"simulated image\")\n",
    "conv_gauss = ndimage.convolve(simulated_image_random,psf_gauss_28x28,mode='constant', cval=0.0)\n",
    "display(conv_gauss,\"dirty image\")"
   ]
  },
  {
   "cell_type": "markdown",
   "metadata": {
    "id": "OZNRU_H8WGX1"
   },
   "source": [
    "**CREATE AND SAVE DIRTY IMAGES**"
   ]
  },
  {
   "cell_type": "markdown",
   "metadata": {
    "id": "MJ4xLZoLxO8o"
   },
   "source": [
    "\n",
    "\n",
    "*  `psf`: point spread function to convolve \n",
    "*  `psf_name`: label psf\n",
    "*  `images`: simulated image to convolve\n",
    "*  `path`: path where convolved images will be saved\n",
    "\n"
   ]
  },
  {
   "cell_type": "code",
   "execution_count": 129,
   "metadata": {
    "id": "fKl_34nWWM5Q"
   },
   "outputs": [],
   "source": [
    "def dataset_dirty(psf,images,path):\n",
    "  dataset = []\n",
    "  index = 0\n",
    "  size_psf = len(psf)\n",
    "  for image in images:\n",
    "    conv = ndimage.convolve(image,psf,mode='constant', cval=0.0)\n",
    "    hdu_image =fits.PrimaryHDU(conv)\n",
    "    hdu_image.writeto(path+'/conv_'+str(size_psf)+'x'+str(size_psf)+'_'+str(index)+'.fits',clobber=True)\n",
    "    dataset.append(conv)\n",
    "    index = index + 1\n",
    "    #print(index) \n",
    "  return dataset"
   ]
  },
  {
   "cell_type": "markdown",
   "metadata": {
    "id": "dlxnG4EsypKw"
   },
   "source": [
    "Example"
   ]
  },
  {
   "cell_type": "code",
   "execution_count": 130,
   "metadata": {
    "colab": {
     "base_uri": "https://localhost:8080/",
     "height": 320
    },
    "id": "DskrXdfVkfp-",
    "outputId": "21ff1545-174e-41d9-be41-28c3d05e9f19"
   },
   "outputs": [
    {
     "name": "stderr",
     "output_type": "stream",
     "text": [
      "WARNING: AstropyDeprecationWarning: \"clobber\" was deprecated in version 2.0 and will be removed in a future version. Use argument \"overwrite\" instead. [warnings]\n"
     ]
    },
    {
     "data": {
      "text/plain": [
       "<matplotlib.image.AxesImage at 0x7f4036597ca0>"
      ]
     },
     "execution_count": 130,
     "metadata": {},
     "output_type": "execute_result"
    },
    {
     "data": {
      "text/plain": [
       "<Figure size 432x288 with 0 Axes>"
      ]
     },
     "metadata": {},
     "output_type": "display_data"
    },
    {
     "data": {
      "image/png": "[encoded data removed]",
      "text/plain": [
       "<Figure size 432x288 with 4 Axes>"
      ]
     },
     "metadata": {
      "needs_background": "light"
     },
     "output_type": "display_data"
    }
   ],
   "source": [
    "dirty_images = dataset_dirty(PSF,DATASET_SIMULTED_IMAGES,PATH_SAVE)\n",
    "list_random_dirty = random.sample(dirty_images, 4)\n",
    "plt.figure()\n",
    "f, axarr=plt.subplots(2,2)\n",
    "axarr[0,0].imshow(list_random_dirty[0])\n",
    "axarr[0,1].imshow(list_random_dirty[1])\n",
    "axarr[1,0].imshow(list_random_dirty[2])\n",
    "axarr[1,1].imshow(list_random_dirty[3])"
   ]
  },
  {
   "cell_type": "code",
   "execution_count": 131,
   "metadata": {},
   "outputs": [
    {
     "name": "stdout",
     "output_type": "stream",
     "text": [
      "finalized\n"
     ]
    }
   ],
   "source": [
    "print(\"finalized\")"
   ]
  },
  {
   "cell_type": "markdown",
   "metadata": {
    "id": "BSuI8vmgMWcg"
   },
   "source": [
    "# Read Dirty Images"
   ]
  },
  {
   "cell_type": "code",
   "execution_count": 132,
   "metadata": {
    "colab": {
     "base_uri": "https://localhost:8080/",
     "height": 282
    },
    "id": "9f28jfbHH0FZ",
    "outputId": "0bce25c2-e956-44ca-8cbd-2a1710681f3c"
   },
   "outputs": [
    {
     "data": {
      "text/plain": [
       "<matplotlib.image.AxesImage at 0x7f4037a42f70>"
      ]
     },
     "execution_count": 132,
     "metadata": {},
     "output_type": "execute_result"
    },
    {
     "data": {
      "image/png": "[encoded data removed]",
      "text/plain": [
       "<Figure size 432x288 with 1 Axes>"
      ]
     },
     "metadata": {
      "needs_background": "light"
     },
     "output_type": "display_data"
    }
   ],
   "source": [
    "dirty_images = get_dataset(PATH_SAVE,'conv',N_PSF,INITIAL_SAVE,FINAL_SAVE)\n",
    "dirty_image_random  = random.choice(dirty_images)\n",
    "plt.imshow(dirty_image_random)"
   ]
  },
  {
   "cell_type": "code",
   "execution_count": 133,
   "metadata": {},
   "outputs": [
    {
     "name": "stdout",
     "output_type": "stream",
     "text": [
      "finalized\n"
     ]
    }
   ],
   "source": [
    "print(\"finalized\")"
   ]
  }
 ],
 "metadata": {
  "accelerator": "GPU",
  "colab": {
   "collapsed_sections": [
    "gM72M5u1kGH1",
    "QTwt6hTVLqYg",
    "Fiui3c6ujXxA",
    "EMQvtJnEjezI",
    "BSuI8vmgMWcg"
   ],
   "name": "Simulator.ipynb",
   "provenance": [],
   "toc_visible": true
  },
  "kernelspec": {
   "display_name": "Python 3",
   "language": "python",
   "name": "python3"
  },
  "language_info": {
   "codemirror_mode": {
    "name": "ipython",
    "version": 3
   },
   "file_extension": ".py",
   "mimetype": "text/x-python",
   "name": "python",
   "nbconvert_exporter": "python",
   "pygments_lexer": "ipython3",
   "version": "3.8.5"
  }
 },
 "nbformat": 4,
 "nbformat_minor": 1
}
